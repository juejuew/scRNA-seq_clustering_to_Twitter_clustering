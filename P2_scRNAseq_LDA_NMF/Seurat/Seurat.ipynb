{
 "cells": [
  {
   "cell_type": "markdown",
   "id": "statewide-reading",
   "metadata": {},
   "source": [
    "# Tweets from four distinct users"
   ]
  },
  {
   "cell_type": "code",
   "execution_count": 1,
   "id": "specified-giant",
   "metadata": {},
   "outputs": [
    {
     "name": "stderr",
     "output_type": "stream",
     "text": [
      "\n",
      "Attaching package: ‘dplyr’\n",
      "\n",
      "\n",
      "The following objects are masked from ‘package:stats’:\n",
      "\n",
      "    filter, lag\n",
      "\n",
      "\n",
      "The following objects are masked from ‘package:base’:\n",
      "\n",
      "    intersect, setdiff, setequal, union\n",
      "\n",
      "\n",
      "Loading required package: Biobase\n",
      "\n",
      "Loading required package: BiocGenerics\n",
      "\n",
      "Loading required package: parallel\n",
      "\n",
      "\n",
      "Attaching package: ‘BiocGenerics’\n",
      "\n",
      "\n",
      "The following objects are masked from ‘package:parallel’:\n",
      "\n",
      "    clusterApply, clusterApplyLB, clusterCall, clusterEvalQ,\n",
      "    clusterExport, clusterMap, parApply, parCapply, parLapply,\n",
      "    parLapplyLB, parRapply, parSapply, parSapplyLB\n",
      "\n",
      "\n",
      "The following objects are masked from ‘package:dplyr’:\n",
      "\n",
      "    combine, intersect, setdiff, union\n",
      "\n",
      "\n",
      "The following objects are masked from ‘package:stats’:\n",
      "\n",
      "    IQR, mad, sd, var, xtabs\n",
      "\n",
      "\n",
      "The following objects are masked from ‘package:base’:\n",
      "\n",
      "    Filter, Find, Map, Position, Reduce, anyDuplicated, append,\n",
      "    as.data.frame, basename, cbind, colnames, dirname, do.call,\n",
      "    duplicated, eval, evalq, get, grep, grepl, intersect, is.unsorted,\n",
      "    lapply, mapply, match, mget, order, paste, pmax, pmax.int, pmin,\n",
      "    pmin.int, rank, rbind, rownames, sapply, setdiff, sort, table,\n",
      "    tapply, union, unique, unsplit, which.max, which.min\n",
      "\n",
      "\n",
      "Welcome to Bioconductor\n",
      "\n",
      "    Vignettes contain introductory material; view with\n",
      "    'browseVignettes()'. To cite Bioconductor, see\n",
      "    'citation(\"Biobase\")', and for packages 'citation(\"pkgname\")'.\n",
      "\n",
      "\n",
      "Loading required package: SingleCellExperiment\n",
      "\n",
      "Loading required package: SummarizedExperiment\n",
      "\n",
      "Loading required package: MatrixGenerics\n",
      "\n",
      "Loading required package: matrixStats\n",
      "\n",
      "\n",
      "Attaching package: ‘matrixStats’\n",
      "\n",
      "\n",
      "The following objects are masked from ‘package:Biobase’:\n",
      "\n",
      "    anyMissing, rowMedians\n",
      "\n",
      "\n",
      "The following object is masked from ‘package:dplyr’:\n",
      "\n",
      "    count\n",
      "\n",
      "\n",
      "\n",
      "Attaching package: ‘MatrixGenerics’\n",
      "\n",
      "\n",
      "The following objects are masked from ‘package:matrixStats’:\n",
      "\n",
      "    colAlls, colAnyNAs, colAnys, colAvgsPerRowSet, colCollapse,\n",
      "    colCounts, colCummaxs, colCummins, colCumprods, colCumsums,\n",
      "    colDiffs, colIQRDiffs, colIQRs, colLogSumExps, colMadDiffs,\n",
      "    colMads, colMaxs, colMeans2, colMedians, colMins, colOrderStats,\n",
      "    colProds, colQuantiles, colRanges, colRanks, colSdDiffs, colSds,\n",
      "    colSums2, colTabulates, colVarDiffs, colVars, colWeightedMads,\n",
      "    colWeightedMeans, colWeightedMedians, colWeightedSds,\n",
      "    colWeightedVars, rowAlls, rowAnyNAs, rowAnys, rowAvgsPerColSet,\n",
      "    rowCollapse, rowCounts, rowCummaxs, rowCummins, rowCumprods,\n",
      "    rowCumsums, rowDiffs, rowIQRDiffs, rowIQRs, rowLogSumExps,\n",
      "    rowMadDiffs, rowMads, rowMaxs, rowMeans2, rowMedians, rowMins,\n",
      "    rowOrderStats, rowProds, rowQuantiles, rowRanges, rowRanks,\n",
      "    rowSdDiffs, rowSds, rowSums2, rowTabulates, rowVarDiffs, rowVars,\n",
      "    rowWeightedMads, rowWeightedMeans, rowWeightedMedians,\n",
      "    rowWeightedSds, rowWeightedVars\n",
      "\n",
      "\n",
      "The following object is masked from ‘package:Biobase’:\n",
      "\n",
      "    rowMedians\n",
      "\n",
      "\n",
      "Loading required package: GenomicRanges\n",
      "\n",
      "Loading required package: stats4\n",
      "\n",
      "Loading required package: S4Vectors\n",
      "\n",
      "\n",
      "Attaching package: ‘S4Vectors’\n",
      "\n",
      "\n",
      "The following objects are masked from ‘package:dplyr’:\n",
      "\n",
      "    first, rename\n",
      "\n",
      "\n",
      "The following object is masked from ‘package:base’:\n",
      "\n",
      "    expand.grid\n",
      "\n",
      "\n",
      "Loading required package: IRanges\n",
      "\n",
      "\n",
      "Attaching package: ‘IRanges’\n",
      "\n",
      "\n",
      "The following objects are masked from ‘package:dplyr’:\n",
      "\n",
      "    collapse, desc, slice\n",
      "\n",
      "\n",
      "Loading required package: GenomeInfoDb\n",
      "\n",
      "\n",
      "Attaching package: ‘monocle3’\n",
      "\n",
      "\n",
      "The following objects are masked from ‘package:Biobase’:\n",
      "\n",
      "    exprs, fData, fData<-, pData, pData<-\n",
      "\n",
      "\n",
      "Warning message in system(\"timedatectl\", intern = TRUE):\n",
      "“running command 'timedatectl' had status 1”\n",
      "── \u001b[1mAttaching packages\u001b[22m ─────────────────────────────────────── tidyverse 1.3.1 ──\n",
      "\n",
      "\u001b[32m✔\u001b[39m \u001b[34mtibble \u001b[39m 3.1.2     \u001b[32m✔\u001b[39m \u001b[34mpurrr  \u001b[39m 0.3.4\n",
      "\u001b[32m✔\u001b[39m \u001b[34mtidyr  \u001b[39m 1.1.3     \u001b[32m✔\u001b[39m \u001b[34mstringr\u001b[39m 1.4.0\n",
      "\u001b[32m✔\u001b[39m \u001b[34mreadr  \u001b[39m 1.4.0     \u001b[32m✔\u001b[39m \u001b[34mforcats\u001b[39m 0.5.1\n",
      "\n",
      "── \u001b[1mConflicts\u001b[22m ────────────────────────────────────────── tidyverse_conflicts() ──\n",
      "\u001b[31m✖\u001b[39m \u001b[34mggplot2\u001b[39m::\u001b[32mPosition()\u001b[39m  masks \u001b[34mBiocGenerics\u001b[39m::Position(), \u001b[34mbase\u001b[39m::Position()\n",
      "\u001b[31m✖\u001b[39m \u001b[34mIRanges\u001b[39m::\u001b[32mcollapse()\u001b[39m  masks \u001b[34mdplyr\u001b[39m::collapse()\n",
      "\u001b[31m✖\u001b[39m \u001b[34mBiobase\u001b[39m::\u001b[32mcombine()\u001b[39m   masks \u001b[34mBiocGenerics\u001b[39m::combine(), \u001b[34mdplyr\u001b[39m::combine()\n",
      "\u001b[31m✖\u001b[39m \u001b[34mmatrixStats\u001b[39m::\u001b[32mcount()\u001b[39m masks \u001b[34mdplyr\u001b[39m::count()\n",
      "\u001b[31m✖\u001b[39m \u001b[34mIRanges\u001b[39m::\u001b[32mdesc()\u001b[39m      masks \u001b[34mdplyr\u001b[39m::desc()\n",
      "\u001b[31m✖\u001b[39m \u001b[34mtidyr\u001b[39m::\u001b[32mexpand()\u001b[39m      masks \u001b[34mS4Vectors\u001b[39m::expand()\n",
      "\u001b[31m✖\u001b[39m \u001b[34mdplyr\u001b[39m::\u001b[32mfilter()\u001b[39m      masks \u001b[34mstats\u001b[39m::filter()\n",
      "\u001b[31m✖\u001b[39m \u001b[34mS4Vectors\u001b[39m::\u001b[32mfirst()\u001b[39m   masks \u001b[34mdplyr\u001b[39m::first()\n",
      "\u001b[31m✖\u001b[39m \u001b[34mdplyr\u001b[39m::\u001b[32mlag()\u001b[39m         masks \u001b[34mstats\u001b[39m::lag()\n",
      "\u001b[31m✖\u001b[39m \u001b[34mpurrr\u001b[39m::\u001b[32mreduce()\u001b[39m      masks \u001b[34mGenomicRanges\u001b[39m::reduce(), \u001b[34mIRanges\u001b[39m::reduce()\n",
      "\u001b[31m✖\u001b[39m \u001b[34mS4Vectors\u001b[39m::\u001b[32mrename()\u001b[39m  masks \u001b[34mdplyr\u001b[39m::rename()\n",
      "\u001b[31m✖\u001b[39m \u001b[34mIRanges\u001b[39m::\u001b[32mslice()\u001b[39m     masks \u001b[34mdplyr\u001b[39m::slice()\n",
      "\n",
      "Registered S3 method overwritten by 'spatstat.geom':\n",
      "  method     from\n",
      "  print.boxx cli \n",
      "\n",
      "Attaching SeuratObject\n",
      "\n",
      "\n",
      "Attaching package: ‘Seurat’\n",
      "\n",
      "\n",
      "The following object is masked from ‘package:SummarizedExperiment’:\n",
      "\n",
      "    Assays\n",
      "\n",
      "\n",
      "\n",
      "Attaching package: ‘data.table’\n",
      "\n",
      "\n",
      "The following object is masked from ‘package:purrr’:\n",
      "\n",
      "    transpose\n",
      "\n",
      "\n",
      "The following object is masked from ‘package:SummarizedExperiment’:\n",
      "\n",
      "    shift\n",
      "\n",
      "\n",
      "The following object is masked from ‘package:GenomicRanges’:\n",
      "\n",
      "    shift\n",
      "\n",
      "\n",
      "The following object is masked from ‘package:IRanges’:\n",
      "\n",
      "    shift\n",
      "\n",
      "\n",
      "The following objects are masked from ‘package:S4Vectors’:\n",
      "\n",
      "    first, second\n",
      "\n",
      "\n",
      "The following objects are masked from ‘package:dplyr’:\n",
      "\n",
      "    between, first, last\n",
      "\n",
      "\n",
      "\n",
      "Attaching package: ‘lubridate’\n",
      "\n",
      "\n",
      "The following objects are masked from ‘package:data.table’:\n",
      "\n",
      "    hour, isoweek, mday, minute, month, quarter, second, wday, week,\n",
      "    yday, year\n",
      "\n",
      "\n",
      "The following objects are masked from ‘package:GenomicRanges’:\n",
      "\n",
      "    intersect, setdiff, union\n",
      "\n",
      "\n",
      "The following object is masked from ‘package:GenomeInfoDb’:\n",
      "\n",
      "    intersect\n",
      "\n",
      "\n",
      "The following objects are masked from ‘package:IRanges’:\n",
      "\n",
      "    %within%, intersect, setdiff, union\n",
      "\n",
      "\n",
      "The following objects are masked from ‘package:S4Vectors’:\n",
      "\n",
      "    intersect, second, second<-, setdiff, union\n",
      "\n",
      "\n",
      "The following objects are masked from ‘package:BiocGenerics’:\n",
      "\n",
      "    intersect, setdiff, union\n",
      "\n",
      "\n",
      "The following objects are masked from ‘package:base’:\n",
      "\n",
      "    date, intersect, setdiff, union\n",
      "\n",
      "\n",
      "\n",
      "Attaching package: ‘reshape2’\n",
      "\n",
      "\n",
      "The following objects are masked from ‘package:data.table’:\n",
      "\n",
      "    dcast, melt\n",
      "\n",
      "\n",
      "The following object is masked from ‘package:tidyr’:\n",
      "\n",
      "    smiths\n",
      "\n",
      "\n",
      "\n",
      "Attaching package: ‘scales’\n",
      "\n",
      "\n",
      "The following object is masked from ‘package:purrr’:\n",
      "\n",
      "    discard\n",
      "\n",
      "\n",
      "The following object is masked from ‘package:readr’:\n",
      "\n",
      "    col_factor\n",
      "\n",
      "\n",
      "\n",
      "Attaching package: ‘text2vec’\n",
      "\n",
      "\n",
      "The following object is masked from ‘package:BiocGenerics’:\n",
      "\n",
      "    normalize\n",
      "\n",
      "\n",
      "\n",
      "Attaching package: ‘Matrix’\n",
      "\n",
      "\n",
      "The following objects are masked from ‘package:tidyr’:\n",
      "\n",
      "    expand, pack, unpack\n",
      "\n",
      "\n",
      "The following object is masked from ‘package:S4Vectors’:\n",
      "\n",
      "    expand\n",
      "\n",
      "\n"
     ]
    }
   ],
   "source": [
    "library(dplyr)\n",
    "library(monocle3)\n",
    "library(cluster)\n",
    "library(ggplot2)\n",
    "library(tidyverse)\n",
    "library(randomNames)\n",
    "library(useful)\n",
    "library(Seurat)\n",
    "library(patchwork)\n",
    "library(cluster)\n",
    "library(data.table)\n",
    "library(lubridate)\n",
    "library(stringr)\n",
    "library(reshape2)\n",
    "library(pairwise)\n",
    "library(scales)\n",
    "# library for coherence \n",
    "library(data.table)\n",
    "library(text2vec)\n",
    "library(Matrix)"
   ]
  },
  {
   "cell_type": "code",
   "execution_count": 2,
   "id": "common-electric",
   "metadata": {},
   "outputs": [
    {
     "name": "stderr",
     "output_type": "stream",
     "text": [
      "Warning message:\n",
      "“The following arguments are not used: row.names”\n",
      "Warning message:\n",
      "“Feature names cannot have underscores ('_'), replacing with dashes ('-')”\n"
     ]
    }
   ],
   "source": [
    "#########################################\n",
    "########## Seurat pbmc object ###########\n",
    "#########################################\n",
    "\n",
    "####### expression (word-document matrix) ########\n",
    "sparse_matrix = read.csv(\"/home/rep/scRNA-seq_clustering_to_Twitter/P1_preprocessing/doc_word_matrix_stemming_four_users.csv\") %>% dplyr::select(-X)\n",
    "names = names(sparse_matrix)\n",
    "sparse_matrix = t(as.matrix(sparse_matrix))\n",
    "word_expression = sparse_matrix\n",
    "\n",
    "####### Doc_metadata #######\n",
    "doc_metadata = read.csv(\"/home/rep/scRNA-seq_clustering_to_Twitter/P1_preprocessing/doc_metadata_stemming_four_users.csv\")  %>% dplyr::select(-X)\n",
    "\n",
    "####### Word_metadata #######\n",
    "word_metadata = data.frame(\n",
    "  word = names,\n",
    "  gene_short_name = names\n",
    ")\n",
    "\n",
    "######## Change row_col names#######\n",
    "colnames(word_expression) = rownames(doc_metadata)\n",
    "rownames(word_metadata) = rownames(word_expression)\n",
    "\n",
    "######## Create Seurat Object #########\n",
    "pbmc = CreateSeuratObject(\n",
    "  word_expression,\n",
    "  project = \"CreateSeuratObject\",\n",
    "  assay = \"Twitter\",\n",
    "  names.field = 1,\n",
    "  meta.data = doc_metadata\n",
    ")"
   ]
  },
  {
   "cell_type": "code",
   "execution_count": 3,
   "id": "governing-memphis",
   "metadata": {},
   "outputs": [
    {
     "name": "stderr",
     "output_type": "stream",
     "text": [
      "Centering and scaling data matrix\n",
      "\n",
      "PC_ 1 \n",
      "Positive:  health, care, ppfa, plan, parenthood, access, control, birth, goblu, reproduct \n",
      "\t   patient, vegan, right, abort, women, peopl, thank, sexual, chelsea, provid \n",
      "\t   center, need, get, fight, deserv, famili, everyon, sex, protect, support \n",
      "Negative:  storm, across, wind, week, rain, tropic, unit, flood, bring, thunderstorm \n",
      "\t   system, snow, state, sever, weekend, heavi, weather, area, coast, northern \n",
      "\t   plain, earli, northeast, expect, gusti, next., track, southern, air, region \n",
      "PC_ 2 \n",
      "Positive:  vegan, goblu, recip, michigan, potato, tofu, sauc, chocol, bean, sweet \n",
      "\t   salad, roast, easi, rice, chickpea, problu, soup, mushroom, comment, pasta \n",
      "\t   touchdown, delici, homemad, umichfootbal, curri, fri, game, bowl, wolverin, made \n",
      "Negative:  health, care, access, plan, parenthood, patient, control, birth, peopl, center \n",
      "\t   reproduct, ppfa, provid, abort, million, right, need, women, rule, help \n",
      "\t   titl, fight, sexual, afford, trump, inform, safe, protectx, protect, deserv \n",
      "PC_ 3 \n",
      "Positive:  goblu, michigan, game, record, wolverin, umichfootbal, play, big, problu, temperatur \n",
      "\t   yard, footbal, player, state, touchdown, win, defens, heat, team, saturday \n",
      "\t   season, first, hous, year, air, lead, unit, challeng, high, guy \n",
      "Negative:  vegan, tropic, recip, potato, comment, hurrican, easi, sauc, sweet, bean \n",
      "\t   dorian, tofu, flood, chocol, roast, rice, soup, atlant, wind, salad \n",
      "\t   chickpea, delici, coast, pasta, mushroom, storm, depress, curri, mexico, fri \n",
      "PC_ 4 \n",
      "Positive:  temperatur, record, air, heat, unit, much, high, across, snow, vegan \n",
      "\t   cold, plain, state, southern, challeng, recip, midwest, set, summer, weather \n",
      "\t   region, northeastern, humid, northeast, california, comment, potato, low, sauc, easi \n",
      "Negative:  tropic, hurrican, goblu, atlant, dorian, develop, becom, depress, coast, ocean \n",
      "\t   mexico, michigan, pacif, form, island, accuweath, mph, meteorologist, near, monitor \n",
      "\t   game, problu, gulf, florida, disturb, latest, bahama, east, wolverin, west \n",
      "PC_ 5 \n",
      "Positive:  chelsea, sorri, ppfa, center, address, manag, experi, hey, best, locat \n",
      "\t   seen, reach, pleas, speak, call, happen, sure, visit, org, person \n",
      "\t   frustrat, hear, help, abl, ask, contact, email, thank, complaint, comment \n",
      "Negative:  access, control, reproduct, abort, rule, birth, peopl, trump, deserv, titl \n",
      "\t   fight, right, protectx, goblu, care, safe, gag, live, women, attack \n",
      "\t   famili, afford, administr, prevent, includ, million, everyon, commun, nation, michigan \n",
      "\n"
     ]
    }
   ],
   "source": [
    "######## Pre-processing ########\n",
    "\n",
    "# Normalizing the data\n",
    "pbmc <- NormalizeData(pbmc)\n",
    "\n",
    "#scale the data\n",
    "all.genes <- rownames(pbmc)\n",
    "pbmc <- ScaleData(pbmc, features = all.genes)\n",
    "\n",
    "# Identification of highly variable features \n",
    "pbmc <- FindVariableFeatures(pbmc, selection.method = \"vst\", nfeatures = dim(word_metadata)[1])\n",
    "\n",
    "#Perform linear dimensional reduction\n",
    "pbmc <- RunPCA(pbmc, features = VariableFeatures(object = pbmc), npc = 100)"
   ]
  },
  {
   "cell_type": "code",
   "execution_count": 4,
   "id": "coral-feeling",
   "metadata": {},
   "outputs": [],
   "source": [
    "#########################################\n",
    "############ JackStraw plot #############\n",
    "#########################################\n",
    "\n",
    "# pbmc <- JackStraw(pbmc, num.replicate = 100, dims = 100)\n",
    "# pbmc <- ScoreJackStraw(pbmc, dims = 1:100)\n",
    "# JackStrawPlot(pbmc, dims = seq(10,80,5))\n",
    "# ggsave(\"S_plots/JackStrawPlot_four.png\",  width = 20, height = 15, units = \"cm\")"
   ]
  },
  {
   "cell_type": "code",
   "execution_count": 9,
   "id": "ready-boards",
   "metadata": {},
   "outputs": [
    {
     "data": {
      "image/png": "[encoded data removed]",
      "text/plain": [
       "plot without title"
      ]
     },
     "metadata": {
      "image/png": {
       "height": 420,
       "width": 420
      }
     },
     "output_type": "display_data"
    }
   ],
   "source": [
    "#####################################\n",
    "############ scree plot #############\n",
    "#####################################\n",
    "Seurat_PCA = pbmc@reductions$pca@stdev\n",
    "Seurat_PCA = (Seurat_PCA^2)/sum(Seurat_PCA^2)\n",
    "\n",
    "PCA <- data.frame(\n",
    "  PCA_components = 1:100,\n",
    "  Seurat = Seurat_PCA\n",
    ")\n",
    "\n",
    "PCA %>% ggplot(aes(x = PCA_components, y = Seurat)) + geom_point() +\n",
    "  ylab(\"Proportion of variance explained by each component\") +\n",
    "  ggtitle(\"Seurat: PCA\")\n",
    "\n",
    "ggsave(\"S_plots/scree_seurat_four.png\",  width = 15, height = 15, units = \"cm\")"
   ]
  },
  {
   "cell_type": "code",
   "execution_count": 4,
   "id": "furnished-pizza",
   "metadata": {},
   "outputs": [
    {
     "name": "stderr",
     "output_type": "stream",
     "text": [
      "PC_ 1 \n",
      "Positive:  health, care, ppfa, plan, parenthood, access, control, birth, goblu, reproduct \n",
      "\t   patient, vegan, right, abort, women, peopl, thank, sexual, chelsea, provid \n",
      "\t   center, need, get, fight, deserv, famili, everyon, sex, protect, support \n",
      "Negative:  storm, across, wind, week, rain, tropic, unit, flood, bring, thunderstorm \n",
      "\t   system, snow, state, sever, weekend, heavi, weather, area, coast, northern \n",
      "\t   plain, earli, northeast, expect, gusti, next., track, southern, air, region \n",
      "PC_ 2 \n",
      "Positive:  health, care, access, plan, parenthood, patient, control, birth, peopl, center \n",
      "\t   reproduct, ppfa, provid, abort, million, right, need, women, rule, help \n",
      "\t   titl, fight, sexual, afford, trump, inform, safe, protectx, protect, deserv \n",
      "Negative:  vegan, goblu, recip, michigan, potato, tofu, sauc, chocol, bean, sweet \n",
      "\t   salad, roast, easi, rice, chickpea, problu, soup, mushroom, comment, pasta \n",
      "\t   touchdown, delici, homemad, umichfootbal, curri, fri, game, bowl, wolverin, made \n",
      "PC_ 3 \n",
      "Positive:  goblu, michigan, game, record, wolverin, umichfootbal, play, big, problu, temperatur \n",
      "\t   yard, footbal, player, state, touchdown, win, defens, heat, team, saturday \n",
      "\t   season, first, hous, year, air, lead, unit, challeng, high, guy \n",
      "Negative:  vegan, tropic, recip, potato, comment, hurrican, easi, sauc, sweet, bean \n",
      "\t   dorian, tofu, flood, chocol, roast, rice, soup, atlant, wind, salad \n",
      "\t   chickpea, delici, coast, pasta, mushroom, storm, depress, curri, mexico, fri \n",
      "PC_ 4 \n",
      "Positive:  tropic, hurrican, goblu, atlant, dorian, develop, becom, depress, coast, ocean \n",
      "\t   mexico, michigan, pacif, form, island, accuweath, mph, meteorologist, near, monitor \n",
      "\t   game, problu, gulf, florida, disturb, latest, bahama, east, wolverin, west \n",
      "Negative:  temperatur, record, air, heat, unit, much, high, across, snow, vegan \n",
      "\t   cold, plain, state, southern, challeng, recip, midwest, set, summer, weather \n",
      "\t   region, northeastern, humid, northeast, california, comment, potato, low, sauc, easi \n",
      "PC_ 5 \n",
      "Positive:  access, control, reproduct, abort, rule, birth, peopl, trump, deserv, titl \n",
      "\t   fight, right, protectx, goblu, care, safe, gag, live, women, attack \n",
      "\t   famili, afford, administr, prevent, includ, million, everyon, commun, nation, michigan \n",
      "Negative:  chelsea, sorri, ppfa, center, address, manag, experi, hey, best, locat \n",
      "\t   seen, reach, pleas, speak, call, happen, sure, visit, org, person \n",
      "\t   frustrat, hear, help, abl, ask, contact, email, thank, complaint, comment \n",
      "\n"
     ]
    }
   ],
   "source": [
    "# Select 25 PCs \n",
    "pbmc <- RunPCA(pbmc, features = VariableFeatures(object = pbmc), npc = 25)"
   ]
  },
  {
   "cell_type": "code",
   "execution_count": 15,
   "id": "impressive-powell",
   "metadata": {},
   "outputs": [],
   "source": [
    "####################################\n",
    "############ coherence #############\n",
    "####################################\n",
    "\n",
    "###### expression (word-document matrix[tf_idf]) ######\n",
    "# \"doc_word_matrix_stemming_four_users_tfidf.csv\" is obtained from S_tfidf.ipynb\n",
    "tfidf = read.csv(\"S_files/doc_word_matrix_stemming_four_users_tfidf.csv\") %>% dplyr::select(-X)\n",
    "tfidf_sparse_matrix = as.matrix(tfidf)\n",
    "\n",
    "####### Doc_metadata #######\n",
    "df_compare = doc_metadata %>% mutate(idx = 1:nrow(doc_metadata))\n",
    "\n",
    "# Create word co-occurence\n",
    "dtm_four = Matrix(tfidf_sparse_matrix, sparse = TRUE) \n",
    "tcm_four = crossprod(sign(dtm_four))\n",
    "N = dim(tfidf_sparse_matrix)[1]"
   ]
  },
  {
   "cell_type": "code",
   "execution_count": 9,
   "id": "acknowledged-vacation",
   "metadata": {},
   "outputs": [
    {
     "name": "stderr",
     "output_type": "stream",
     "text": [
      "Computing nearest neighbor graph\n",
      "\n",
      "Computing SNN\n",
      "\n"
     ]
    },
    {
     "name": "stdout",
     "output_type": "stream",
     "text": [
      "Modularity Optimizer version 1.3.0 by Ludo Waltman and Nees Jan van Eck\n",
      "\n",
      "Number of nodes: 12507\n",
      "Number of edges: 115649\n",
      "\n",
      "Running Louvain algorithm...\n",
      "Maximum modularity in 10 random starts: 0.9170\n",
      "Number of communities: 70\n",
      "Elapsed time: 0 seconds\n"
     ]
    },
    {
     "name": "stderr",
     "output_type": "stream",
     "text": [
      "Computing nearest neighbor graph\n",
      "\n",
      "Computing SNN\n",
      "\n"
     ]
    },
    {
     "name": "stdout",
     "output_type": "stream",
     "text": [
      "Modularity Optimizer version 1.3.0 by Ludo Waltman and Nees Jan van Eck\n",
      "\n",
      "Number of nodes: 12507\n",
      "Number of edges: 158831\n",
      "\n",
      "Running Louvain algorithm...\n",
      "Maximum modularity in 10 random starts: 0.9082\n",
      "Number of communities: 60\n",
      "Elapsed time: 0 seconds\n"
     ]
    },
    {
     "name": "stderr",
     "output_type": "stream",
     "text": [
      "Computing nearest neighbor graph\n",
      "\n",
      "Computing SNN\n",
      "\n"
     ]
    },
    {
     "name": "stdout",
     "output_type": "stream",
     "text": [
      "Modularity Optimizer version 1.3.0 by Ludo Waltman and Nees Jan van Eck\n",
      "\n",
      "Number of nodes: 12507\n",
      "Number of edges: 206290\n",
      "\n",
      "Running Louvain algorithm...\n",
      "Maximum modularity in 10 random starts: 0.8992\n",
      "Number of communities: 48\n",
      "Elapsed time: 1 seconds\n"
     ]
    },
    {
     "name": "stderr",
     "output_type": "stream",
     "text": [
      "Computing nearest neighbor graph\n",
      "\n",
      "Computing SNN\n",
      "\n"
     ]
    },
    {
     "name": "stdout",
     "output_type": "stream",
     "text": [
      "Modularity Optimizer version 1.3.0 by Ludo Waltman and Nees Jan van Eck\n",
      "\n",
      "Number of nodes: 12507\n",
      "Number of edges: 256951\n",
      "\n",
      "Running Louvain algorithm...\n",
      "Maximum modularity in 10 random starts: 0.8926\n",
      "Number of communities: 45\n",
      "Elapsed time: 1 seconds\n"
     ]
    },
    {
     "name": "stderr",
     "output_type": "stream",
     "text": [
      "Computing nearest neighbor graph\n",
      "\n",
      "Computing SNN\n",
      "\n"
     ]
    },
    {
     "name": "stdout",
     "output_type": "stream",
     "text": [
      "Modularity Optimizer version 1.3.0 by Ludo Waltman and Nees Jan van Eck\n",
      "\n",
      "Number of nodes: 12507\n",
      "Number of edges: 146862\n",
      "\n",
      "Running Louvain algorithm...\n",
      "Maximum modularity in 10 random starts: 0.9260\n",
      "Number of communities: 52\n",
      "Elapsed time: 0 seconds\n"
     ]
    },
    {
     "name": "stderr",
     "output_type": "stream",
     "text": [
      "Computing nearest neighbor graph\n",
      "\n",
      "Computing SNN\n",
      "\n"
     ]
    },
    {
     "name": "stdout",
     "output_type": "stream",
     "text": [
      "Modularity Optimizer version 1.3.0 by Ludo Waltman and Nees Jan van Eck\n",
      "\n",
      "Number of nodes: 12507\n",
      "Number of edges: 179555\n",
      "\n",
      "Running Louvain algorithm...\n",
      "Maximum modularity in 10 random starts: 0.9190\n",
      "Number of communities: 49\n",
      "Elapsed time: 0 seconds\n"
     ]
    },
    {
     "name": "stderr",
     "output_type": "stream",
     "text": [
      "Computing nearest neighbor graph\n",
      "\n",
      "Computing SNN\n",
      "\n"
     ]
    },
    {
     "name": "stdout",
     "output_type": "stream",
     "text": [
      "Modularity Optimizer version 1.3.0 by Ludo Waltman and Nees Jan van Eck\n",
      "\n",
      "Number of nodes: 12507\n",
      "Number of edges: 214453\n",
      "\n",
      "Running Louvain algorithm...\n",
      "Maximum modularity in 10 random starts: 0.9124\n",
      "Number of communities: 41\n",
      "Elapsed time: 0 seconds\n"
     ]
    },
    {
     "name": "stderr",
     "output_type": "stream",
     "text": [
      "Computing nearest neighbor graph\n",
      "\n",
      "Computing SNN\n",
      "\n"
     ]
    },
    {
     "name": "stdout",
     "output_type": "stream",
     "text": [
      "Modularity Optimizer version 1.3.0 by Ludo Waltman and Nees Jan van Eck\n",
      "\n",
      "Number of nodes: 12507\n",
      "Number of edges: 252436\n",
      "\n",
      "Running Louvain algorithm...\n",
      "Maximum modularity in 10 random starts: 0.9070\n",
      "Number of communities: 38\n",
      "Elapsed time: 0 seconds\n"
     ]
    },
    {
     "name": "stderr",
     "output_type": "stream",
     "text": [
      "Computing nearest neighbor graph\n",
      "\n",
      "Computing SNN\n",
      "\n"
     ]
    },
    {
     "name": "stdout",
     "output_type": "stream",
     "text": [
      "Modularity Optimizer version 1.3.0 by Ludo Waltman and Nees Jan van Eck\n",
      "\n",
      "Number of nodes: 12507\n",
      "Number of edges: 293578\n",
      "\n",
      "Running Louvain algorithm...\n",
      "Maximum modularity in 10 random starts: 0.9010\n",
      "Number of communities: 33\n",
      "Elapsed time: 1 seconds\n"
     ]
    },
    {
     "name": "stderr",
     "output_type": "stream",
     "text": [
      "Computing nearest neighbor graph\n",
      "\n",
      "Computing SNN\n",
      "\n"
     ]
    },
    {
     "name": "stdout",
     "output_type": "stream",
     "text": [
      "Modularity Optimizer version 1.3.0 by Ludo Waltman and Nees Jan van Eck\n",
      "\n",
      "Number of nodes: 12507\n",
      "Number of edges: 334973\n",
      "\n",
      "Running Louvain algorithm...\n",
      "Maximum modularity in 10 random starts: 0.8968\n",
      "Number of communities: 31\n",
      "Elapsed time: 1 seconds\n"
     ]
    },
    {
     "name": "stderr",
     "output_type": "stream",
     "text": [
      "Computing nearest neighbor graph\n",
      "\n",
      "Computing SNN\n",
      "\n"
     ]
    },
    {
     "name": "stdout",
     "output_type": "stream",
     "text": [
      "Modularity Optimizer version 1.3.0 by Ludo Waltman and Nees Jan van Eck\n",
      "\n",
      "Number of nodes: 12507\n",
      "Number of edges: 377881\n",
      "\n",
      "Running Louvain algorithm...\n",
      "Maximum modularity in 10 random starts: 0.8913\n",
      "Number of communities: 28\n",
      "Elapsed time: 1 seconds\n"
     ]
    },
    {
     "name": "stderr",
     "output_type": "stream",
     "text": [
      "Computing nearest neighbor graph\n",
      "\n",
      "Computing SNN\n",
      "\n"
     ]
    },
    {
     "name": "stdout",
     "output_type": "stream",
     "text": [
      "Modularity Optimizer version 1.3.0 by Ludo Waltman and Nees Jan van Eck\n",
      "\n",
      "Number of nodes: 12507\n",
      "Number of edges: 421769\n",
      "\n",
      "Running Louvain algorithm...\n",
      "Maximum modularity in 10 random starts: 0.8878\n",
      "Number of communities: 30\n",
      "Elapsed time: 1 seconds\n"
     ]
    },
    {
     "name": "stderr",
     "output_type": "stream",
     "text": [
      "Computing nearest neighbor graph\n",
      "\n",
      "Computing SNN\n",
      "\n"
     ]
    },
    {
     "name": "stdout",
     "output_type": "stream",
     "text": [
      "Modularity Optimizer version 1.3.0 by Ludo Waltman and Nees Jan van Eck\n",
      "\n",
      "Number of nodes: 12507\n",
      "Number of edges: 315488\n",
      "\n",
      "Running Louvain algorithm...\n",
      "Maximum modularity in 10 random starts: 0.9050\n",
      "Number of communities: 32\n",
      "Elapsed time: 1 seconds\n"
     ]
    },
    {
     "name": "stderr",
     "output_type": "stream",
     "text": [
      "Computing nearest neighbor graph\n",
      "\n",
      "Computing SNN\n",
      "\n"
     ]
    },
    {
     "name": "stdout",
     "output_type": "stream",
     "text": [
      "Modularity Optimizer version 1.3.0 by Ludo Waltman and Nees Jan van Eck\n",
      "\n",
      "Number of nodes: 12507\n",
      "Number of edges: 351299\n",
      "\n",
      "Running Louvain algorithm...\n",
      "Maximum modularity in 10 random starts: 0.9011\n",
      "Number of communities: 29\n",
      "Elapsed time: 1 seconds\n"
     ]
    },
    {
     "name": "stderr",
     "output_type": "stream",
     "text": [
      "Computing nearest neighbor graph\n",
      "\n",
      "Computing SNN\n",
      "\n"
     ]
    },
    {
     "name": "stdout",
     "output_type": "stream",
     "text": [
      "Modularity Optimizer version 1.3.0 by Ludo Waltman and Nees Jan van Eck\n",
      "\n",
      "Number of nodes: 12507\n",
      "Number of edges: 388940\n",
      "\n",
      "Running Louvain algorithm...\n",
      "Maximum modularity in 10 random starts: 0.8973\n",
      "Number of communities: 28\n",
      "Elapsed time: 1 seconds\n"
     ]
    },
    {
     "name": "stderr",
     "output_type": "stream",
     "text": [
      "Computing nearest neighbor graph\n",
      "\n",
      "Computing SNN\n",
      "\n"
     ]
    },
    {
     "name": "stdout",
     "output_type": "stream",
     "text": [
      "Modularity Optimizer version 1.3.0 by Ludo Waltman and Nees Jan van Eck\n",
      "\n",
      "Number of nodes: 12507\n",
      "Number of edges: 427552\n",
      "\n",
      "Running Louvain algorithm...\n",
      "Maximum modularity in 10 random starts: 0.8946\n",
      "Number of communities: 29\n",
      "Elapsed time: 1 seconds\n"
     ]
    },
    {
     "name": "stderr",
     "output_type": "stream",
     "text": [
      "Computing nearest neighbor graph\n",
      "\n",
      "Computing SNN\n",
      "\n"
     ]
    },
    {
     "name": "stdout",
     "output_type": "stream",
     "text": [
      "Modularity Optimizer version 1.3.0 by Ludo Waltman and Nees Jan van Eck\n",
      "\n",
      "Number of nodes: 12507\n",
      "Number of edges: 673786\n",
      "\n",
      "Running Louvain algorithm...\n",
      "Maximum modularity in 10 random starts: 0.8829\n",
      "Number of communities: 25\n",
      "Elapsed time: 2 seconds\n"
     ]
    },
    {
     "name": "stderr",
     "output_type": "stream",
     "text": [
      "Computing nearest neighbor graph\n",
      "\n",
      "Computing SNN\n",
      "\n"
     ]
    },
    {
     "name": "stdout",
     "output_type": "stream",
     "text": [
      "Modularity Optimizer version 1.3.0 by Ludo Waltman and Nees Jan van Eck\n",
      "\n",
      "Number of nodes: 12507\n",
      "Number of edges: 726442\n",
      "\n",
      "Running Louvain algorithm...\n",
      "Maximum modularity in 10 random starts: 0.8825\n",
      "Number of communities: 24\n",
      "Elapsed time: 3 seconds\n"
     ]
    },
    {
     "name": "stderr",
     "output_type": "stream",
     "text": [
      "Computing nearest neighbor graph\n",
      "\n",
      "Computing SNN\n",
      "\n"
     ]
    },
    {
     "name": "stdout",
     "output_type": "stream",
     "text": [
      "Modularity Optimizer version 1.3.0 by Ludo Waltman and Nees Jan van Eck\n",
      "\n",
      "Number of nodes: 12507\n",
      "Number of edges: 917419\n",
      "\n",
      "Running Louvain algorithm...\n",
      "Maximum modularity in 10 random starts: 0.8733\n",
      "Number of communities: 23\n",
      "Elapsed time: 3 seconds\n"
     ]
    },
    {
     "name": "stderr",
     "output_type": "stream",
     "text": [
      "Computing nearest neighbor graph\n",
      "\n",
      "Computing SNN\n",
      "\n"
     ]
    },
    {
     "name": "stdout",
     "output_type": "stream",
     "text": [
      "Modularity Optimizer version 1.3.0 by Ludo Waltman and Nees Jan van Eck\n",
      "\n",
      "Number of nodes: 12507\n",
      "Number of edges: 967240\n",
      "\n",
      "Running Louvain algorithm...\n",
      "Maximum modularity in 10 random starts: 0.8733\n",
      "Number of communities: 23\n",
      "Elapsed time: 4 seconds\n"
     ]
    },
    {
     "name": "stderr",
     "output_type": "stream",
     "text": [
      "Computing nearest neighbor graph\n",
      "\n",
      "Computing SNN\n",
      "\n"
     ]
    },
    {
     "name": "stdout",
     "output_type": "stream",
     "text": [
      "Modularity Optimizer version 1.3.0 by Ludo Waltman and Nees Jan van Eck\n",
      "\n",
      "Number of nodes: 12507\n",
      "Number of edges: 1023424\n",
      "\n",
      "Running Louvain algorithm...\n",
      "Maximum modularity in 10 random starts: 0.8739\n",
      "Number of communities: 23\n",
      "Elapsed time: 4 seconds\n"
     ]
    },
    {
     "name": "stderr",
     "output_type": "stream",
     "text": [
      "Computing nearest neighbor graph\n",
      "\n",
      "Computing SNN\n",
      "\n"
     ]
    },
    {
     "name": "stdout",
     "output_type": "stream",
     "text": [
      "Modularity Optimizer version 1.3.0 by Ludo Waltman and Nees Jan van Eck\n",
      "\n",
      "Number of nodes: 12507\n",
      "Number of edges: 1205633\n",
      "\n",
      "Running Louvain algorithm...\n",
      "Maximum modularity in 10 random starts: 0.8671\n",
      "Number of communities: 20\n",
      "Elapsed time: 5 seconds\n"
     ]
    },
    {
     "name": "stderr",
     "output_type": "stream",
     "text": [
      "Computing nearest neighbor graph\n",
      "\n",
      "Computing SNN\n",
      "\n"
     ]
    },
    {
     "name": "stdout",
     "output_type": "stream",
     "text": [
      "Modularity Optimizer version 1.3.0 by Ludo Waltman and Nees Jan van Eck\n",
      "\n",
      "Number of nodes: 12507\n",
      "Number of edges: 1260772\n",
      "\n",
      "Running Louvain algorithm...\n",
      "Maximum modularity in 10 random starts: 0.8671\n",
      "Number of communities: 20\n",
      "Elapsed time: 5 seconds\n"
     ]
    },
    {
     "name": "stderr",
     "output_type": "stream",
     "text": [
      "Computing nearest neighbor graph\n",
      "\n",
      "Computing SNN\n",
      "\n"
     ]
    },
    {
     "name": "stdout",
     "output_type": "stream",
     "text": [
      "Modularity Optimizer version 1.3.0 by Ludo Waltman and Nees Jan van Eck\n",
      "\n",
      "Number of nodes: 12507\n",
      "Number of edges: 1317828\n",
      "\n",
      "Running Louvain algorithm...\n",
      "Maximum modularity in 10 random starts: 0.8671\n",
      "Number of communities: 21\n",
      "Elapsed time: 5 seconds\n"
     ]
    },
    {
     "name": "stderr",
     "output_type": "stream",
     "text": [
      "Computing nearest neighbor graph\n",
      "\n",
      "Computing SNN\n",
      "\n"
     ]
    },
    {
     "name": "stdout",
     "output_type": "stream",
     "text": [
      "Modularity Optimizer version 1.3.0 by Ludo Waltman and Nees Jan van Eck\n",
      "\n",
      "Number of nodes: 12507\n",
      "Number of edges: 1494866\n",
      "\n",
      "Running Louvain algorithm...\n",
      "Maximum modularity in 10 random starts: 0.8615\n",
      "Number of communities: 18\n",
      "Elapsed time: 6 seconds\n"
     ]
    },
    {
     "name": "stderr",
     "output_type": "stream",
     "text": [
      "Computing nearest neighbor graph\n",
      "\n",
      "Computing SNN\n",
      "\n"
     ]
    },
    {
     "name": "stdout",
     "output_type": "stream",
     "text": [
      "Modularity Optimizer version 1.3.0 by Ludo Waltman and Nees Jan van Eck\n",
      "\n",
      "Number of nodes: 12507\n",
      "Number of edges: 1550213\n",
      "\n",
      "Running Louvain algorithm...\n",
      "Maximum modularity in 10 random starts: 0.8606\n",
      "Number of communities: 18\n",
      "Elapsed time: 5 seconds\n"
     ]
    },
    {
     "name": "stderr",
     "output_type": "stream",
     "text": [
      "Computing nearest neighbor graph\n",
      "\n",
      "Computing SNN\n",
      "\n"
     ]
    },
    {
     "name": "stdout",
     "output_type": "stream",
     "text": [
      "Modularity Optimizer version 1.3.0 by Ludo Waltman and Nees Jan van Eck\n",
      "\n",
      "Number of nodes: 12507\n",
      "Number of edges: 1727177\n",
      "\n",
      "Running Louvain algorithm...\n",
      "Maximum modularity in 10 random starts: 0.8557\n",
      "Number of communities: 17\n",
      "Elapsed time: 7 seconds\n"
     ]
    },
    {
     "name": "stderr",
     "output_type": "stream",
     "text": [
      "Computing nearest neighbor graph\n",
      "\n",
      "Computing SNN\n",
      "\n"
     ]
    },
    {
     "name": "stdout",
     "output_type": "stream",
     "text": [
      "Modularity Optimizer version 1.3.0 by Ludo Waltman and Nees Jan van Eck\n",
      "\n",
      "Number of nodes: 12507\n",
      "Number of edges: 1781375\n",
      "\n",
      "Running Louvain algorithm...\n",
      "Maximum modularity in 10 random starts: 0.8561\n",
      "Number of communities: 16\n",
      "Elapsed time: 5 seconds\n"
     ]
    },
    {
     "name": "stderr",
     "output_type": "stream",
     "text": [
      "Computing nearest neighbor graph\n",
      "\n",
      "Computing SNN\n",
      "\n"
     ]
    },
    {
     "name": "stdout",
     "output_type": "stream",
     "text": [
      "Modularity Optimizer version 1.3.0 by Ludo Waltman and Nees Jan van Eck\n",
      "\n",
      "Number of nodes: 12507\n",
      "Number of edges: 1836466\n",
      "\n",
      "Running Louvain algorithm...\n",
      "Maximum modularity in 10 random starts: 0.8555\n",
      "Number of communities: 16\n",
      "Elapsed time: 7 seconds\n"
     ]
    },
    {
     "name": "stderr",
     "output_type": "stream",
     "text": [
      "Computing nearest neighbor graph\n",
      "\n",
      "Computing SNN\n",
      "\n"
     ]
    },
    {
     "name": "stdout",
     "output_type": "stream",
     "text": [
      "Modularity Optimizer version 1.3.0 by Ludo Waltman and Nees Jan van Eck\n",
      "\n",
      "Number of nodes: 12507\n",
      "Number of edges: 2008929\n",
      "\n",
      "Running Louvain algorithm...\n",
      "Maximum modularity in 10 random starts: 0.8512\n",
      "Number of communities: 16\n",
      "Elapsed time: 7 seconds\n"
     ]
    },
    {
     "name": "stderr",
     "output_type": "stream",
     "text": [
      "Computing nearest neighbor graph\n",
      "\n",
      "Computing SNN\n",
      "\n"
     ]
    },
    {
     "name": "stdout",
     "output_type": "stream",
     "text": [
      "Modularity Optimizer version 1.3.0 by Ludo Waltman and Nees Jan van Eck\n",
      "\n",
      "Number of nodes: 12507\n",
      "Number of edges: 2064321\n",
      "\n",
      "Running Louvain algorithm...\n",
      "Maximum modularity in 10 random starts: 0.8509\n",
      "Number of communities: 16\n",
      "Elapsed time: 6 seconds\n"
     ]
    },
    {
     "name": "stderr",
     "output_type": "stream",
     "text": [
      "Computing nearest neighbor graph\n",
      "\n",
      "Computing SNN\n",
      "\n"
     ]
    },
    {
     "name": "stdout",
     "output_type": "stream",
     "text": [
      "Modularity Optimizer version 1.3.0 by Ludo Waltman and Nees Jan van Eck\n",
      "\n",
      "Number of nodes: 12507\n",
      "Number of edges: 2286765\n",
      "\n",
      "Running Louvain algorithm...\n",
      "Maximum modularity in 10 random starts: 0.8468\n",
      "Number of communities: 16\n",
      "Elapsed time: 7 seconds\n"
     ]
    },
    {
     "name": "stderr",
     "output_type": "stream",
     "text": [
      "Computing nearest neighbor graph\n",
      "\n",
      "Computing SNN\n",
      "\n"
     ]
    },
    {
     "name": "stdout",
     "output_type": "stream",
     "text": [
      "Modularity Optimizer version 1.3.0 by Ludo Waltman and Nees Jan van Eck\n",
      "\n",
      "Number of nodes: 12507\n",
      "Number of edges: 2510204\n",
      "\n",
      "Running Louvain algorithm...\n",
      "Maximum modularity in 10 random starts: 0.8421\n",
      "Number of communities: 14\n",
      "Elapsed time: 8 seconds\n"
     ]
    },
    {
     "name": "stderr",
     "output_type": "stream",
     "text": [
      "Computing nearest neighbor graph\n",
      "\n",
      "Computing SNN\n",
      "\n"
     ]
    },
    {
     "name": "stdout",
     "output_type": "stream",
     "text": [
      "Modularity Optimizer version 1.3.0 by Ludo Waltman and Nees Jan van Eck\n",
      "\n",
      "Number of nodes: 12507\n",
      "Number of edges: 2620346\n",
      "\n",
      "Running Louvain algorithm...\n",
      "Maximum modularity in 10 random starts: 0.8411\n",
      "Number of communities: 14\n",
      "Elapsed time: 9 seconds\n"
     ]
    },
    {
     "name": "stderr",
     "output_type": "stream",
     "text": [
      "Computing nearest neighbor graph\n",
      "\n",
      "Computing SNN\n",
      "\n"
     ]
    },
    {
     "name": "stdout",
     "output_type": "stream",
     "text": [
      "Modularity Optimizer version 1.3.0 by Ludo Waltman and Nees Jan van Eck\n",
      "\n",
      "Number of nodes: 12507\n",
      "Number of edges: 3064267\n",
      "\n",
      "Running Louvain algorithm...\n",
      "Maximum modularity in 10 random starts: 0.8328\n",
      "Number of communities: 13\n",
      "Elapsed time: 9 seconds\n"
     ]
    },
    {
     "name": "stderr",
     "output_type": "stream",
     "text": [
      "Computing nearest neighbor graph\n",
      "\n",
      "Computing SNN\n",
      "\n"
     ]
    },
    {
     "name": "stdout",
     "output_type": "stream",
     "text": [
      "Modularity Optimizer version 1.3.0 by Ludo Waltman and Nees Jan van Eck\n",
      "\n",
      "Number of nodes: 12507\n",
      "Number of edges: 3392049\n",
      "\n",
      "Running Louvain algorithm...\n",
      "Maximum modularity in 10 random starts: 0.8274\n",
      "Number of communities: 13\n",
      "Elapsed time: 11 seconds\n"
     ]
    },
    {
     "name": "stderr",
     "output_type": "stream",
     "text": [
      "Computing nearest neighbor graph\n",
      "\n",
      "Computing SNN\n",
      "\n"
     ]
    },
    {
     "name": "stdout",
     "output_type": "stream",
     "text": [
      "Modularity Optimizer version 1.3.0 by Ludo Waltman and Nees Jan van Eck\n",
      "\n",
      "Number of nodes: 12507\n",
      "Number of edges: 4050758\n",
      "\n",
      "Running Louvain algorithm...\n",
      "Maximum modularity in 10 random starts: 0.8147\n",
      "Number of communities: 10\n",
      "Elapsed time: 13 seconds\n"
     ]
    },
    {
     "name": "stderr",
     "output_type": "stream",
     "text": [
      "Computing nearest neighbor graph\n",
      "\n",
      "Computing SNN\n",
      "\n"
     ]
    },
    {
     "name": "stdout",
     "output_type": "stream",
     "text": [
      "Modularity Optimizer version 1.3.0 by Ludo Waltman and Nees Jan van Eck\n",
      "\n",
      "Number of nodes: 12507\n",
      "Number of edges: 6054800\n",
      "\n",
      "Running Louvain algorithm...\n",
      "Maximum modularity in 10 random starts: 0.7808\n",
      "Number of communities: 7\n",
      "Elapsed time: 22 seconds\n"
     ]
    },
    {
     "name": "stderr",
     "output_type": "stream",
     "text": [
      "Computing nearest neighbor graph\n",
      "\n",
      "Computing SNN\n",
      "\n"
     ]
    },
    {
     "name": "stdout",
     "output_type": "stream",
     "text": [
      "Modularity Optimizer version 1.3.0 by Ludo Waltman and Nees Jan van Eck\n",
      "\n",
      "Number of nodes: 12507\n",
      "Number of edges: 11187946\n",
      "\n",
      "Running Louvain algorithm...\n",
      "Maximum modularity in 10 random starts: 0.6797\n",
      "Number of communities: 6\n",
      "Elapsed time: 61 seconds\n"
     ]
    },
    {
     "name": "stderr",
     "output_type": "stream",
     "text": [
      "Computing nearest neighbor graph\n",
      "\n",
      "Computing SNN\n",
      "\n"
     ]
    },
    {
     "name": "stdout",
     "output_type": "stream",
     "text": [
      "Modularity Optimizer version 1.3.0 by Ludo Waltman and Nees Jan van Eck\n",
      "\n",
      "Number of nodes: 12507\n",
      "Number of edges: 17297094\n",
      "\n",
      "Running Louvain algorithm...\n",
      "Maximum modularity in 10 random starts: 0.5819\n",
      "Number of communities: 5\n",
      "Elapsed time: 30 seconds\n"
     ]
    },
    {
     "name": "stderr",
     "output_type": "stream",
     "text": [
      "Computing nearest neighbor graph\n",
      "\n",
      "Computing SNN\n",
      "\n"
     ]
    },
    {
     "name": "stdout",
     "output_type": "stream",
     "text": [
      "Modularity Optimizer version 1.3.0 by Ludo Waltman and Nees Jan van Eck\n",
      "\n",
      "Number of nodes: 12507\n",
      "Number of edges: 28920054\n",
      "\n",
      "Running Louvain algorithm...\n",
      "Maximum modularity in 10 random starts: 0.4423\n",
      "Number of communities: 4\n",
      "Elapsed time: 62 seconds\n"
     ]
    },
    {
     "name": "stderr",
     "output_type": "stream",
     "text": [
      "Computing nearest neighbor graph\n",
      "\n",
      "Computing SNN\n",
      "\n"
     ]
    },
    {
     "name": "stdout",
     "output_type": "stream",
     "text": [
      "Modularity Optimizer version 1.3.0 by Ludo Waltman and Nees Jan van Eck\n",
      "\n",
      "Number of nodes: 12507\n",
      "Number of edges: 37900274\n",
      "\n",
      "Running Louvain algorithm...\n",
      "Maximum modularity in 10 random starts: 0.3732\n",
      "Number of communities: 4\n",
      "Elapsed time: 90 seconds\n"
     ]
    },
    {
     "name": "stderr",
     "output_type": "stream",
     "text": [
      "Computing nearest neighbor graph\n",
      "\n",
      "Computing SNN\n",
      "\n"
     ]
    },
    {
     "name": "stdout",
     "output_type": "stream",
     "text": [
      "Modularity Optimizer version 1.3.0 by Ludo Waltman and Nees Jan van Eck\n",
      "\n",
      "Number of nodes: 12507\n",
      "Number of edges: 52905811\n",
      "\n",
      "Running Louvain algorithm...\n",
      "Maximum modularity in 10 random starts: 0.2948\n",
      "Number of communities: 3\n",
      "Elapsed time: 110 seconds\n"
     ]
    }
   ],
   "source": [
    "# Calculate coherence score for different number of nearest neighbors\n",
    "k_range = c(5:20,30,35,40,45,50,55,60,65,70,75,80,85,90,95,100,110,120,130,150,170,200, 300, 500, 700, 1000, 1200, 1500)\n",
    "avg_coherence = vector()\n",
    "num_cluster = vector()\n",
    "Seurat_results = data.frame(1:dim(pbmc)[2])\n",
    "\n",
    "for (i in 1:length(k_range)){\n",
    "  # Clustering\n",
    "  num = as.integer(k_range[i])\n",
    "  pbmc <- FindNeighbors(pbmc, dims = 1:25, k.param = num)\n",
    "  pbmc <- FindClusters(pbmc, random.seed = 44)\n",
    "  x = as.numeric(Idents(pbmc))\n",
    "    \n",
    "  # Store results\n",
    "  num_cluster[i] = as.integer(length(unique(x))) # count the number of clusters\n",
    "  nn = data.frame(as.numeric(x))\n",
    "  Seurat_results = cbind(Seurat_results, nn)\n",
    "  \n",
    "  # Get tw\n",
    "  df_compare = df_compare %>% mutate(Seurat_results = x)\n",
    "  summary_table = data.frame(1:ncol(tfidf_sparse_matrix))\n",
    "   \n",
    "  for(j in 1:length(unique(df_compare$Seurat_results))){\n",
    "  \n",
    "  cluster_j = tfidf_sparse_matrix[as.numeric(df_compare %>% filter(Seurat_results == j) %>% .$idx),]\n",
    "  \n",
    "  words = colSums(cluster_j)/nrow(cluster_j)\n",
    "  sort_by_freq = sort(words, decreasing = TRUE)\n",
    "  \n",
    "  summary_table = cbind(summary_table, data.frame(names(sort_by_freq)))\n",
    "  }\n",
    "    \n",
    "  summary_table = summary_table[,-1]\n",
    "  names(summary_table) = as.character(1:length(unique(df_compare$Seurat_results)))\n",
    "    \n",
    "  tw_four = as.matrix(summary_table[1:20,])\n",
    "    \n",
    "  # Compute coherence\n",
    "  res = coherence(tw_four, tcm_four, n_doc_tcm = length(x), metrics = \"mean_npmi_cosim2\")\n",
    "  avg_coherence[i] = mean(as.data.frame(res)[,1])\n",
    "}"
   ]
  },
  {
   "cell_type": "code",
   "execution_count": 10,
   "id": "alone-brass",
   "metadata": {},
   "outputs": [],
   "source": [
    "summary_s = data.frame(k_range, avg_coherence, num_cluster)\n",
    "# write.csv(summary_s, \"S_files/Seurat_coherence_summary_four_PCA_25PCs.csv\")\n",
    "\n",
    "names(Seurat_results) = c(\"Index\", k_range)\n",
    "# write.csv(Seurat_results, \"S_files/Seurat_estimated_clustering_four_PCA_25PCs.csv\")"
   ]
  },
  {
   "cell_type": "code",
   "execution_count": 8,
   "id": "color-logic",
   "metadata": {},
   "outputs": [
    {
     "data": {
      "image/png": "[encoded data removed]",
      "text/plain": [
       "plot without title"
      ]
     },
     "metadata": {
      "image/png": {
       "height": 420,
       "width": 420
      }
     },
     "output_type": "display_data"
    }
   ],
   "source": [
    "ggplot(data=summary_s, aes(x=k_range, y=avg_coherence)) +\n",
    "  geom_line()+\n",
    "  geom_point() + scale_x_continuous(name=\"number of nearest neighbors\", breaks = c(5,60,150,300, 500, 700, 1000, 1200, 1500)) +\n",
    "  scale_y_continuous(name=\"avg_coherence\", breaks = seq(0.15, 0.45, by = 0.05), limits = c(0.15, 0.45)) + ggtitle(\"Topic coherence measure for Seurat\") +\n",
    "  geom_vline(xintercept = k_range[which.max(avg_coherence)], linetype=\"dashed\", \n",
    "                color = \"red\", size=0.7) \n",
    "\n",
    "# ggsave(\"S_plots/coherence_seurat_four_neighbor_tfidf_1.png\",  width = 20, height = 15, units = \"cm\")"
   ]
  },
  {
   "cell_type": "code",
   "execution_count": 9,
   "id": "addressed-spice",
   "metadata": {},
   "outputs": [
    {
     "data": {
      "image/png": "[encoded data removed]",
      "text/plain": [
       "plot without title"
      ]
     },
     "metadata": {
      "image/png": {
       "height": 420,
       "width": 420
      }
     },
     "output_type": "display_data"
    }
   ],
   "source": [
    "ggplot(data=summary_s, aes(x=num_cluster, y=avg_coherence)) +\n",
    "  geom_line()+\n",
    "  geom_point() + scale_x_continuous(name=\"number of clusters\", breaks = c(4,10,16,20,24,28,30,38,52,60,70)) +\n",
    "  scale_y_continuous(name=\"avg_coherence\", breaks = seq(0.15, 0.45, by = 0.05), limits = c(0.15, 0.45)) + \n",
    "  ggtitle(\"Topic coherence measure for Seurat\") +\n",
    "  geom_vline(xintercept = num_cluster[which.max(avg_coherence)], linetype=\"dashed\", \n",
    "                color = \"red\", size=0.7) \n",
    "\n",
    "# ggsave(\"S_plots/coherence_seurat_four_cluster_tfidf_1.png\",  width = 20, height = 15, units = \"cm\")"
   ]
  },
  {
   "cell_type": "code",
   "execution_count": null,
   "id": "spiritual-intermediate",
   "metadata": {},
   "outputs": [],
   "source": [
    "#################################################\n",
    "############# Silhouette Analysis ###############\n",
    "#################################################\n",
    "\n",
    "############ Distance matrix ############## \n",
    "coord = pbmc[[\"pca\"]]@cell.embeddings\n",
    "distance_matrix  = dist(coord, diag = T, upper = T)\n",
    "\n",
    "num_cluster = vector()\n",
    "avg_widths = vector()\n",
    "k_range = c(5:20,30,35,40,45,50,55,60,65,70,75,80,85,90,95,100,110,120,130,150,170,200, 300, 500, 700, 1000, 1200, 1500)\n",
    "\n",
    "for (i in 1:length(k_range)){\n",
    "  \n",
    "  x = Seurat_results[,as.character(k_range[i])]\n",
    "  # count the number of clusters\n",
    "  num_cluster[i] = as.integer(length(unique(x))) \n",
    "  \n",
    "  # Silhouette Analysis\n",
    "  si = silhouette(x, distance_matrix)\n",
    "  ssi <- summary(si)\n",
    "  avg_widths[i] = ssi$avg.width\n",
    "}"
   ]
  },
  {
   "cell_type": "code",
   "execution_count": null,
   "id": "useful-alaska",
   "metadata": {},
   "outputs": [],
   "source": [
    "summary_s = data.frame(k_range, num_cluster, as.numeric(avg_widths))\n",
    "# write.csv(summary_s, \"S_files/Seurat_silhouette_summary_Euclidean_distance_four_PCA_25PCs.csv\")"
   ]
  },
  {
   "cell_type": "code",
   "execution_count": 12,
   "id": "several-insertion",
   "metadata": {},
   "outputs": [
    {
     "data": {
      "image/png": "[encoded data removed]",
      "text/plain": [
       "plot without title"
      ]
     },
     "metadata": {
      "image/png": {
       "height": 420,
       "width": 420
      }
     },
     "output_type": "display_data"
    }
   ],
   "source": [
    "ggplot(data=summary_s, aes(x=k_range, y= as.numeric.avg_widths.)) +\n",
    "  geom_line()+\n",
    "  geom_point() + scale_x_continuous(name=\"number of nearest neighbors\", breaks = c(5,100,200, 300, 500, 700, 1000, 1200, 1500)) +\n",
    "  scale_y_continuous(name=\"Average Silhouette Width\", breaks = seq(-0.1, 0.7, by = 0.1), limits=c(-0.1,0.7)) + \n",
    "  ggtitle(\"Silhouette for Seurat (Euclidean distance)\") +\n",
    "  geom_vline(xintercept = k_range[which.max(summary_s$as.numeric.avg_widths.)], linetype=\"dashed\", \n",
    "                color = \"red\", size=0.7) \n",
    "\n",
    "# ggsave(\"S_plots/silhouette_euclidean_seurat_four_1_neighbor.png\",  width = 20, height = 15, units = \"cm\")"
   ]
  },
  {
   "cell_type": "code",
   "execution_count": 20,
   "id": "initial-recorder",
   "metadata": {},
   "outputs": [
    {
     "data": {
      "image/png": "[encoded data removed]",
      "text/plain": [
       "plot without title"
      ]
     },
     "metadata": {
      "image/png": {
       "height": 420,
       "width": 420
      }
     },
     "output_type": "display_data"
    }
   ],
   "source": [
    "ggplot(data=summary_s, aes(x=num_cluster, y=as.numeric.avg_widths.)) +\n",
    "  geom_line()+\n",
    "  geom_point() + scale_x_continuous(name=\"number of clusters\", breaks = c(4,10,16,20,24,28,30,38,52,60,70)) +\n",
    "  scale_y_continuous(name=\"Average Silhouette Width\", breaks = seq(-0.1, 0.7, by = 0.1), limits=c(-0.1,0.7)) + \n",
    "  ggtitle(\"Silhouette for Seurat (Euclidean distance)\") + \n",
    "  geom_vline(xintercept = num_cluster[which.max(summary_s$as.numeric.avg_widths.)], linetype=\"dashed\", \n",
    "                color = \"red\", size=0.7) \n",
    "\n",
    "# ggsave(\"S_plots/silhouette_euclidean_seurat_four_1_cluster.png\",  width = 20, height = 15, units = \"cm\")"
   ]
  },
  {
   "cell_type": "code",
   "execution_count": 16,
   "id": "touched-backup",
   "metadata": {},
   "outputs": [
    {
     "data": {
      "text/html": [
       "<table class=\"dataframe\">\n",
       "<caption>A data.frame: 20 × 5</caption>\n",
       "<thead>\n",
       "\t<tr><th scope=col>Seurat_results</th><th scope=col>PPFA</th><th scope=col>UMichFootball</th><th scope=col>breakingweather</th><th scope=col>vegancook101</th></tr>\n",
       "\t<tr><th scope=col>&lt;dbl&gt;</th><th scope=col>&lt;dbl&gt;</th><th scope=col>&lt;dbl&gt;</th><th scope=col>&lt;dbl&gt;</th><th scope=col>&lt;dbl&gt;</th></tr>\n",
       "</thead>\n",
       "<tbody>\n",
       "\t<tr><td> 1</td><td>1485</td><td> 195</td><td>  70</td><td> 122</td></tr>\n",
       "\t<tr><td> 2</td><td>  22</td><td>1745</td><td>  54</td><td>  20</td></tr>\n",
       "\t<tr><td> 3</td><td>   3</td><td>  11</td><td>1814</td><td>   2</td></tr>\n",
       "\t<tr><td> 4</td><td>   4</td><td>   3</td><td>   2</td><td>1457</td></tr>\n",
       "\t<tr><td> 5</td><td>   1</td><td>   0</td><td>1059</td><td>   0</td></tr>\n",
       "\t<tr><td> 6</td><td>   2</td><td>   3</td><td>   2</td><td> 993</td></tr>\n",
       "\t<tr><td> 7</td><td>   3</td><td>   3</td><td>   1</td><td> 486</td></tr>\n",
       "\t<tr><td> 8</td><td> 423</td><td>   1</td><td>   1</td><td>   0</td></tr>\n",
       "\t<tr><td> 9</td><td>  56</td><td> 257</td><td>  11</td><td>  90</td></tr>\n",
       "\t<tr><td>10</td><td> 365</td><td>   0</td><td>   0</td><td>   0</td></tr>\n",
       "\t<tr><td>11</td><td>   6</td><td> 314</td><td>   3</td><td>   4</td></tr>\n",
       "\t<tr><td>12</td><td>   0</td><td> 231</td><td>   0</td><td>   0</td></tr>\n",
       "\t<tr><td>13</td><td> 228</td><td>   2</td><td>   0</td><td>   0</td></tr>\n",
       "\t<tr><td>14</td><td>   0</td><td> 217</td><td>   0</td><td>   0</td></tr>\n",
       "\t<tr><td>15</td><td> 205</td><td>   5</td><td>   1</td><td>   3</td></tr>\n",
       "\t<tr><td>16</td><td> 194</td><td>   0</td><td>   0</td><td>   0</td></tr>\n",
       "\t<tr><td>17</td><td> 155</td><td>   0</td><td>   0</td><td>   0</td></tr>\n",
       "\t<tr><td>18</td><td>   0</td><td>   0</td><td>  66</td><td>   0</td></tr>\n",
       "\t<tr><td>19</td><td>   0</td><td>   0</td><td>  65</td><td>   0</td></tr>\n",
       "\t<tr><td>20</td><td>   0</td><td>   0</td><td>  42</td><td>   0</td></tr>\n",
       "</tbody>\n",
       "</table>\n"
      ],
      "text/latex": [
       "A data.frame: 20 × 5\n",
       "\\begin{tabular}{lllll}\n",
       " Seurat\\_results & PPFA & UMichFootball & breakingweather & vegancook101\\\\\n",
       " <dbl> & <dbl> & <dbl> & <dbl> & <dbl>\\\\\n",
       "\\hline\n",
       "\t  1 & 1485 &  195 &   70 &  122\\\\\n",
       "\t  2 &   22 & 1745 &   54 &   20\\\\\n",
       "\t  3 &    3 &   11 & 1814 &    2\\\\\n",
       "\t  4 &    4 &    3 &    2 & 1457\\\\\n",
       "\t  5 &    1 &    0 & 1059 &    0\\\\\n",
       "\t  6 &    2 &    3 &    2 &  993\\\\\n",
       "\t  7 &    3 &    3 &    1 &  486\\\\\n",
       "\t  8 &  423 &    1 &    1 &    0\\\\\n",
       "\t  9 &   56 &  257 &   11 &   90\\\\\n",
       "\t 10 &  365 &    0 &    0 &    0\\\\\n",
       "\t 11 &    6 &  314 &    3 &    4\\\\\n",
       "\t 12 &    0 &  231 &    0 &    0\\\\\n",
       "\t 13 &  228 &    2 &    0 &    0\\\\\n",
       "\t 14 &    0 &  217 &    0 &    0\\\\\n",
       "\t 15 &  205 &    5 &    1 &    3\\\\\n",
       "\t 16 &  194 &    0 &    0 &    0\\\\\n",
       "\t 17 &  155 &    0 &    0 &    0\\\\\n",
       "\t 18 &    0 &    0 &   66 &    0\\\\\n",
       "\t 19 &    0 &    0 &   65 &    0\\\\\n",
       "\t 20 &    0 &    0 &   42 &    0\\\\\n",
       "\\end{tabular}\n"
      ],
      "text/markdown": [
       "\n",
       "A data.frame: 20 × 5\n",
       "\n",
       "| Seurat_results &lt;dbl&gt; | PPFA &lt;dbl&gt; | UMichFootball &lt;dbl&gt; | breakingweather &lt;dbl&gt; | vegancook101 &lt;dbl&gt; |\n",
       "|---|---|---|---|---|\n",
       "|  1 | 1485 |  195 |   70 |  122 |\n",
       "|  2 |   22 | 1745 |   54 |   20 |\n",
       "|  3 |    3 |   11 | 1814 |    2 |\n",
       "|  4 |    4 |    3 |    2 | 1457 |\n",
       "|  5 |    1 |    0 | 1059 |    0 |\n",
       "|  6 |    2 |    3 |    2 |  993 |\n",
       "|  7 |    3 |    3 |    1 |  486 |\n",
       "|  8 |  423 |    1 |    1 |    0 |\n",
       "|  9 |   56 |  257 |   11 |   90 |\n",
       "| 10 |  365 |    0 |    0 |    0 |\n",
       "| 11 |    6 |  314 |    3 |    4 |\n",
       "| 12 |    0 |  231 |    0 |    0 |\n",
       "| 13 |  228 |    2 |    0 |    0 |\n",
       "| 14 |    0 |  217 |    0 |    0 |\n",
       "| 15 |  205 |    5 |    1 |    3 |\n",
       "| 16 |  194 |    0 |    0 |    0 |\n",
       "| 17 |  155 |    0 |    0 |    0 |\n",
       "| 18 |    0 |    0 |   66 |    0 |\n",
       "| 19 |    0 |    0 |   65 |    0 |\n",
       "| 20 |    0 |    0 |   42 |    0 |\n",
       "\n"
      ],
      "text/plain": [
       "   Seurat_results PPFA UMichFootball breakingweather vegancook101\n",
       "1   1             1485  195            70             122        \n",
       "2   2               22 1745            54              20        \n",
       "3   3                3   11          1814               2        \n",
       "4   4                4    3             2            1457        \n",
       "5   5                1    0          1059               0        \n",
       "6   6                2    3             2             993        \n",
       "7   7                3    3             1             486        \n",
       "8   8              423    1             1               0        \n",
       "9   9               56  257            11              90        \n",
       "10 10              365    0             0               0        \n",
       "11 11                6  314             3               4        \n",
       "12 12                0  231             0               0        \n",
       "13 13              228    2             0               0        \n",
       "14 14                0  217             0               0        \n",
       "15 15              205    5             1               3        \n",
       "16 16              194    0             0               0        \n",
       "17 17              155    0             0               0        \n",
       "18 18                0    0            66               0        \n",
       "19 19                0    0            65               0        \n",
       "20 20                0    0            42               0        "
      ]
     },
     "metadata": {},
     "output_type": "display_data"
    },
    {
     "data": {
      "text/html": [
       "<table class=\"dataframe\">\n",
       "<caption>A data.frame: 4 × 5</caption>\n",
       "<thead>\n",
       "\t<tr><th scope=col>Seurat_results</th><th scope=col>PPFA</th><th scope=col>UMichFootball</th><th scope=col>breakingweather</th><th scope=col>vegancook101</th></tr>\n",
       "\t<tr><th scope=col>&lt;dbl&gt;</th><th scope=col>&lt;dbl&gt;</th><th scope=col>&lt;dbl&gt;</th><th scope=col>&lt;dbl&gt;</th><th scope=col>&lt;dbl&gt;</th></tr>\n",
       "</thead>\n",
       "<tbody>\n",
       "\t<tr><td>1</td><td> 147</td><td> 233</td><td> 118</td><td>3078</td></tr>\n",
       "\t<tr><td>2</td><td>2826</td><td>  74</td><td> 130</td><td>  68</td></tr>\n",
       "\t<tr><td>3</td><td> 178</td><td>2676</td><td> 128</td><td>  31</td></tr>\n",
       "\t<tr><td>4</td><td>   1</td><td>   4</td><td>2815</td><td>   0</td></tr>\n",
       "</tbody>\n",
       "</table>\n"
      ],
      "text/latex": [
       "A data.frame: 4 × 5\n",
       "\\begin{tabular}{lllll}\n",
       " Seurat\\_results & PPFA & UMichFootball & breakingweather & vegancook101\\\\\n",
       " <dbl> & <dbl> & <dbl> & <dbl> & <dbl>\\\\\n",
       "\\hline\n",
       "\t 1 &  147 &  233 &  118 & 3078\\\\\n",
       "\t 2 & 2826 &   74 &  130 &   68\\\\\n",
       "\t 3 &  178 & 2676 &  128 &   31\\\\\n",
       "\t 4 &    1 &    4 & 2815 &    0\\\\\n",
       "\\end{tabular}\n"
      ],
      "text/markdown": [
       "\n",
       "A data.frame: 4 × 5\n",
       "\n",
       "| Seurat_results &lt;dbl&gt; | PPFA &lt;dbl&gt; | UMichFootball &lt;dbl&gt; | breakingweather &lt;dbl&gt; | vegancook101 &lt;dbl&gt; |\n",
       "|---|---|---|---|---|\n",
       "| 1 |  147 |  233 |  118 | 3078 |\n",
       "| 2 | 2826 |   74 |  130 |   68 |\n",
       "| 3 |  178 | 2676 |  128 |   31 |\n",
       "| 4 |    1 |    4 | 2815 |    0 |\n",
       "\n"
      ],
      "text/plain": [
       "  Seurat_results PPFA UMichFootball breakingweather vegancook101\n",
       "1 1               147  233           118            3078        \n",
       "2 2              2826   74           130              68        \n",
       "3 3               178 2676           128              31        \n",
       "4 4                 1    4          2815               0        "
      ]
     },
     "metadata": {},
     "output_type": "display_data"
    },
    {
     "data": {
      "text/html": [
       "<table class=\"dataframe\">\n",
       "<caption>A data.frame: 10 × 20</caption>\n",
       "<thead>\n",
       "\t<tr><th></th><th scope=col>1</th><th scope=col>2</th><th scope=col>3</th><th scope=col>4</th><th scope=col>5</th><th scope=col>6</th><th scope=col>7</th><th scope=col>8</th><th scope=col>9</th><th scope=col>10</th><th scope=col>11</th><th scope=col>12</th><th scope=col>13</th><th scope=col>14</th><th scope=col>15</th><th scope=col>16</th><th scope=col>17</th><th scope=col>18</th><th scope=col>19</th><th scope=col>20</th></tr>\n",
       "\t<tr><th></th><th scope=col>&lt;chr&gt;</th><th scope=col>&lt;chr&gt;</th><th scope=col>&lt;chr&gt;</th><th scope=col>&lt;chr&gt;</th><th scope=col>&lt;chr&gt;</th><th scope=col>&lt;chr&gt;</th><th scope=col>&lt;chr&gt;</th><th scope=col>&lt;chr&gt;</th><th scope=col>&lt;chr&gt;</th><th scope=col>&lt;chr&gt;</th><th scope=col>&lt;chr&gt;</th><th scope=col>&lt;chr&gt;</th><th scope=col>&lt;chr&gt;</th><th scope=col>&lt;chr&gt;</th><th scope=col>&lt;chr&gt;</th><th scope=col>&lt;chr&gt;</th><th scope=col>&lt;chr&gt;</th><th scope=col>&lt;chr&gt;</th><th scope=col>&lt;chr&gt;</th><th scope=col>&lt;chr&gt;</th></tr>\n",
       "</thead>\n",
       "<tbody>\n",
       "\t<tr><th scope=row>1</th><td>health</td><td>goblu       </td><td>across      </td><td>vegan   </td><td>tropic  </td><td>vegan  </td><td>vegan    </td><td>sex    </td><td>tombradi      </td><td>plan        </td><td>problu    </td><td>goblu        </td><td>chelsea</td><td>touchdown</td><td>senat      </td><td>control        </td><td>trump    </td><td>meteor </td><td>syndic   </td><td>episod   </td></tr>\n",
       "\t<tr><th scope=row>2</th><td>abort </td><td>michigan    </td><td>storm       </td><td>tofu    </td><td>storm   </td><td>recip  </td><td>pie      </td><td>sexual </td><td>umichathlet   </td><td>parenthood  </td><td>goblu     </td><td>lewisjeweleri</td><td>ppfa   </td><td>michigan </td><td>tell       </td><td>birth          </td><td>rule     </td><td>peak   </td><td>credit   </td><td>insid    </td></tr>\n",
       "\t<tr><th scope=row>3</th><td>care  </td><td>umichfootbal</td><td>week        </td><td>salad   </td><td>flood   </td><td>chocol </td><td>chees    </td><td>educ   </td><td>sack          </td><td>health      </td><td>guy       </td><td>hail         </td><td>center </td><td>goblu    </td><td>standwithpp</td><td>access         </td><td>gag      </td><td>night  </td><td>coverag  </td><td>discuss  </td></tr>\n",
       "\t<tr><th scope=row>4</th><td>women </td><td>game        </td><td>snow        </td><td>potato  </td><td>week    </td><td>made   </td><td>breakfast</td><td>get    </td><td>sheapatterson_</td><td>care        </td><td>nfldraft  </td><td>cfapeachbowl </td><td>sorri  </td><td>lead     </td><td>bill       </td><td>method         </td><td>care     </td><td>shower </td><td>use      </td><td>listen   </td></tr>\n",
       "\t<tr><th scope=row>5</th><td>thank </td><td>big         </td><td>temperatur  </td><td>bean    </td><td>hurrican</td><td>comment</td><td>pumpkin  </td><td>assault</td><td>got           </td><td>istandwithpp</td><td>nflcombin </td><td>beatnd       </td><td>hey    </td><td>yard     </td><td>trumpcar   </td><td>thxbirthcontrol</td><td>titl     </td><td>cloud  </td><td>may      </td><td>accurayno</td></tr>\n",
       "\t<tr><th scope=row>6</th><td>right </td><td>go          </td><td>state       </td><td>mushroom</td><td>dorian  </td><td>easi   </td><td>homemad  </td><td>test   </td><td>inspir        </td><td>ppfa        </td><td>nfl       </td><td>beatstat     </td><td>address</td><td>play     </td><td>call       </td><td>care           </td><td>administr</td><td>known  </td><td>accuweath</td><td>evan     </td></tr>\n",
       "\t<tr><th scope=row>7</th><td>ppfa  </td><td>let         </td><td>unit        </td><td>chickpea</td><td>rain    </td><td>cake   </td><td>pancak   </td><td>hiv    </td><td>rashanagari   </td><td>center      </td><td>sure      </td><td>arbor        </td><td>health </td><td>shea     </td><td>ppfa       </td><td>health         </td><td>protectx </td><td>monday </td><td>wow      </td><td>weather  </td></tr>\n",
       "\t<tr><th scope=row>8</th><td>peopl </td><td>day         </td><td>weather     </td><td>rice    </td><td>wind    </td><td>free   </td><td>bake     </td><td>learn  </td><td>ye            </td><td>thank       </td><td>nflnetwork</td><td>still        </td><td>thank  </td><td>first    </td><td>defund     </td><td>plan           </td><td>health   </td><td>view   </td><td>take     </td><td>myer     </td></tr>\n",
       "\t<tr><th scope=row>9</th><td>via   </td><td>play        </td><td>record      </td><td>soup    </td><td>coast   </td><td>cooki  </td><td>bread    </td><td>talk   </td><td>coach_gatti   </td><td>patient     </td><td>wolverin  </td><td>coachjimum   </td><td>best   </td><td>td       </td><td>tweet      </td><td>women          </td><td>patient  </td><td>one    </td><td>safe     </td><td>today    </td></tr>\n",
       "\t<tr><th scope=row>10</th><td>today </td><td>footbal     </td><td>thunderstorm</td><td>sweet   </td><td>atlant  </td><td>gluten </td><td>mac      </td><td>peopl  </td><td>day           </td><td>year        </td><td>catch     </td><td>got          </td><td>manag  </td><td>nsd      </td><td>care       </td><td>ppfa           </td><td>penc     </td><td>firebal</td><td>news     </td><td>heat     </td></tr>\n",
       "</tbody>\n",
       "</table>\n"
      ],
      "text/latex": [
       "A data.frame: 10 × 20\n",
       "\\begin{tabular}{r|llllllllllllllllllll}\n",
       "  & 1 & 2 & 3 & 4 & 5 & 6 & 7 & 8 & 9 & 10 & 11 & 12 & 13 & 14 & 15 & 16 & 17 & 18 & 19 & 20\\\\\n",
       "  & <chr> & <chr> & <chr> & <chr> & <chr> & <chr> & <chr> & <chr> & <chr> & <chr> & <chr> & <chr> & <chr> & <chr> & <chr> & <chr> & <chr> & <chr> & <chr> & <chr>\\\\\n",
       "\\hline\n",
       "\t1 & health & goblu        & across       & vegan    & tropic   & vegan   & vegan     & sex     & tombradi       & plan         & problu     & goblu         & chelsea & touchdown & senat       & control         & trump     & meteor  & syndic    & episod   \\\\\n",
       "\t2 & abort  & michigan     & storm        & tofu     & storm    & recip   & pie       & sexual  & umichathlet    & parenthood   & goblu      & lewisjeweleri & ppfa    & michigan  & tell        & birth           & rule      & peak    & credit    & insid    \\\\\n",
       "\t3 & care   & umichfootbal & week         & salad    & flood    & chocol  & chees     & educ    & sack           & health       & guy        & hail          & center  & goblu     & standwithpp & access          & gag       & night   & coverag   & discuss  \\\\\n",
       "\t4 & women  & game         & snow         & potato   & week     & made    & breakfast & get     & sheapatterson\\_ & care         & nfldraft   & cfapeachbowl  & sorri   & lead      & bill        & method          & care      & shower  & use       & listen   \\\\\n",
       "\t5 & thank  & big          & temperatur   & bean     & hurrican & comment & pumpkin   & assault & got            & istandwithpp & nflcombin  & beatnd        & hey     & yard      & trumpcar    & thxbirthcontrol & titl      & cloud   & may       & accurayno\\\\\n",
       "\t6 & right  & go           & state        & mushroom & dorian   & easi    & homemad   & test    & inspir         & ppfa         & nfl        & beatstat      & address & play      & call        & care            & administr & known   & accuweath & evan     \\\\\n",
       "\t7 & ppfa   & let          & unit         & chickpea & rain     & cake    & pancak    & hiv     & rashanagari    & center       & sure       & arbor         & health  & shea      & ppfa        & health          & protectx  & monday  & wow       & weather  \\\\\n",
       "\t8 & peopl  & day          & weather      & rice     & wind     & free    & bake      & learn   & ye             & thank        & nflnetwork & still         & thank   & first     & defund      & plan            & health    & view    & take      & myer     \\\\\n",
       "\t9 & via    & play         & record       & soup     & coast    & cooki   & bread     & talk    & coach\\_gatti    & patient      & wolverin   & coachjimum    & best    & td        & tweet       & women           & patient   & one     & safe      & today    \\\\\n",
       "\t10 & today  & footbal      & thunderstorm & sweet    & atlant   & gluten  & mac       & peopl   & day            & year         & catch      & got           & manag   & nsd       & care        & ppfa            & penc      & firebal & news      & heat     \\\\\n",
       "\\end{tabular}\n"
      ],
      "text/markdown": [
       "\n",
       "A data.frame: 10 × 20\n",
       "\n",
       "| <!--/--> | 1 &lt;chr&gt; | 2 &lt;chr&gt; | 3 &lt;chr&gt; | 4 &lt;chr&gt; | 5 &lt;chr&gt; | 6 &lt;chr&gt; | 7 &lt;chr&gt; | 8 &lt;chr&gt; | 9 &lt;chr&gt; | 10 &lt;chr&gt; | 11 &lt;chr&gt; | 12 &lt;chr&gt; | 13 &lt;chr&gt; | 14 &lt;chr&gt; | 15 &lt;chr&gt; | 16 &lt;chr&gt; | 17 &lt;chr&gt; | 18 &lt;chr&gt; | 19 &lt;chr&gt; | 20 &lt;chr&gt; |\n",
       "|---|---|---|---|---|---|---|---|---|---|---|---|---|---|---|---|---|---|---|---|---|\n",
       "| 1 | health | goblu        | across       | vegan    | tropic   | vegan   | vegan     | sex     | tombradi       | plan         | problu     | goblu         | chelsea | touchdown | senat       | control         | trump     | meteor  | syndic    | episod    |\n",
       "| 2 | abort  | michigan     | storm        | tofu     | storm    | recip   | pie       | sexual  | umichathlet    | parenthood   | goblu      | lewisjeweleri | ppfa    | michigan  | tell        | birth           | rule      | peak    | credit    | insid     |\n",
       "| 3 | care   | umichfootbal | week         | salad    | flood    | chocol  | chees     | educ    | sack           | health       | guy        | hail          | center  | goblu     | standwithpp | access          | gag       | night   | coverag   | discuss   |\n",
       "| 4 | women  | game         | snow         | potato   | week     | made    | breakfast | get     | sheapatterson_ | care         | nfldraft   | cfapeachbowl  | sorri   | lead      | bill        | method          | care      | shower  | use       | listen    |\n",
       "| 5 | thank  | big          | temperatur   | bean     | hurrican | comment | pumpkin   | assault | got            | istandwithpp | nflcombin  | beatnd        | hey     | yard      | trumpcar    | thxbirthcontrol | titl      | cloud   | may       | accurayno |\n",
       "| 6 | right  | go           | state        | mushroom | dorian   | easi    | homemad   | test    | inspir         | ppfa         | nfl        | beatstat      | address | play      | call        | care            | administr | known   | accuweath | evan      |\n",
       "| 7 | ppfa   | let          | unit         | chickpea | rain     | cake    | pancak    | hiv     | rashanagari    | center       | sure       | arbor         | health  | shea      | ppfa        | health          | protectx  | monday  | wow       | weather   |\n",
       "| 8 | peopl  | day          | weather      | rice     | wind     | free    | bake      | learn   | ye             | thank        | nflnetwork | still         | thank   | first     | defund      | plan            | health    | view    | take      | myer      |\n",
       "| 9 | via    | play         | record       | soup     | coast    | cooki   | bread     | talk    | coach_gatti    | patient      | wolverin   | coachjimum    | best    | td        | tweet       | women           | patient   | one     | safe      | today     |\n",
       "| 10 | today  | footbal      | thunderstorm | sweet    | atlant   | gluten  | mac       | peopl   | day            | year         | catch      | got           | manag   | nsd       | care        | ppfa            | penc      | firebal | news      | heat      |\n",
       "\n"
      ],
      "text/plain": [
       "   1      2            3            4        5        6       7         8      \n",
       "1  health goblu        across       vegan    tropic   vegan   vegan     sex    \n",
       "2  abort  michigan     storm        tofu     storm    recip   pie       sexual \n",
       "3  care   umichfootbal week         salad    flood    chocol  chees     educ   \n",
       "4  women  game         snow         potato   week     made    breakfast get    \n",
       "5  thank  big          temperatur   bean     hurrican comment pumpkin   assault\n",
       "6  right  go           state        mushroom dorian   easi    homemad   test   \n",
       "7  ppfa   let          unit         chickpea rain     cake    pancak    hiv    \n",
       "8  peopl  day          weather      rice     wind     free    bake      learn  \n",
       "9  via    play         record       soup     coast    cooki   bread     talk   \n",
       "10 today  footbal      thunderstorm sweet    atlant   gluten  mac       peopl  \n",
       "   9              10           11         12            13      14       \n",
       "1  tombradi       plan         problu     goblu         chelsea touchdown\n",
       "2  umichathlet    parenthood   goblu      lewisjeweleri ppfa    michigan \n",
       "3  sack           health       guy        hail          center  goblu    \n",
       "4  sheapatterson_ care         nfldraft   cfapeachbowl  sorri   lead     \n",
       "5  got            istandwithpp nflcombin  beatnd        hey     yard     \n",
       "6  inspir         ppfa         nfl        beatstat      address play     \n",
       "7  rashanagari    center       sure       arbor         health  shea     \n",
       "8  ye             thank        nflnetwork still         thank   first    \n",
       "9  coach_gatti    patient      wolverin   coachjimum    best    td       \n",
       "10 day            year         catch      got           manag   nsd      \n",
       "   15          16              17        18      19        20       \n",
       "1  senat       control         trump     meteor  syndic    episod   \n",
       "2  tell        birth           rule      peak    credit    insid    \n",
       "3  standwithpp access          gag       night   coverag   discuss  \n",
       "4  bill        method          care      shower  use       listen   \n",
       "5  trumpcar    thxbirthcontrol titl      cloud   may       accurayno\n",
       "6  call        care            administr known   accuweath evan     \n",
       "7  ppfa        health          protectx  monday  wow       weather  \n",
       "8  defund      plan            health    view    take      myer     \n",
       "9  tweet       women           patient   one     safe      today    \n",
       "10 care        ppfa            penc      firebal news      heat     "
      ]
     },
     "metadata": {},
     "output_type": "display_data"
    },
    {
     "data": {
      "text/html": [
       "<table class=\"dataframe\">\n",
       "<caption>A data.frame: 10 × 4</caption>\n",
       "<thead>\n",
       "\t<tr><th></th><th scope=col>1</th><th scope=col>2</th><th scope=col>3</th><th scope=col>4</th></tr>\n",
       "\t<tr><th></th><th scope=col>&lt;chr&gt;</th><th scope=col>&lt;chr&gt;</th><th scope=col>&lt;chr&gt;</th><th scope=col>&lt;chr&gt;</th></tr>\n",
       "</thead>\n",
       "<tbody>\n",
       "\t<tr><th scope=row>1</th><td>vegan   </td><td>health    </td><td>goblu       </td><td>storm       </td></tr>\n",
       "\t<tr><th scope=row>2</th><td>recip   </td><td>care      </td><td>michigan    </td><td>across      </td></tr>\n",
       "\t<tr><th scope=row>3</th><td>tofu    </td><td>ppfa      </td><td>umichfootbal</td><td>week        </td></tr>\n",
       "\t<tr><th scope=row>4</th><td>chocol  </td><td>plan      </td><td>game        </td><td>tropic      </td></tr>\n",
       "\t<tr><th scope=row>5</th><td>easi    </td><td>parenthood</td><td>touchdown   </td><td>wind        </td></tr>\n",
       "\t<tr><th scope=row>6</th><td>made    </td><td>peopl     </td><td>problu      </td><td>rain        </td></tr>\n",
       "\t<tr><th scope=row>7</th><td>salad   </td><td>abort     </td><td>day         </td><td>state       </td></tr>\n",
       "\t<tr><th scope=row>8</th><td>bean    </td><td>women     </td><td>big         </td><td>unit        </td></tr>\n",
       "\t<tr><th scope=row>9</th><td>potato  </td><td>thank     </td><td>play        </td><td>thunderstorm</td></tr>\n",
       "\t<tr><th scope=row>10</th><td>chickpea</td><td>right     </td><td>go          </td><td>weather     </td></tr>\n",
       "</tbody>\n",
       "</table>\n"
      ],
      "text/latex": [
       "A data.frame: 10 × 4\n",
       "\\begin{tabular}{r|llll}\n",
       "  & 1 & 2 & 3 & 4\\\\\n",
       "  & <chr> & <chr> & <chr> & <chr>\\\\\n",
       "\\hline\n",
       "\t1 & vegan    & health     & goblu        & storm       \\\\\n",
       "\t2 & recip    & care       & michigan     & across      \\\\\n",
       "\t3 & tofu     & ppfa       & umichfootbal & week        \\\\\n",
       "\t4 & chocol   & plan       & game         & tropic      \\\\\n",
       "\t5 & easi     & parenthood & touchdown    & wind        \\\\\n",
       "\t6 & made     & peopl      & problu       & rain        \\\\\n",
       "\t7 & salad    & abort      & day          & state       \\\\\n",
       "\t8 & bean     & women      & big          & unit        \\\\\n",
       "\t9 & potato   & thank      & play         & thunderstorm\\\\\n",
       "\t10 & chickpea & right      & go           & weather     \\\\\n",
       "\\end{tabular}\n"
      ],
      "text/markdown": [
       "\n",
       "A data.frame: 10 × 4\n",
       "\n",
       "| <!--/--> | 1 &lt;chr&gt; | 2 &lt;chr&gt; | 3 &lt;chr&gt; | 4 &lt;chr&gt; |\n",
       "|---|---|---|---|---|\n",
       "| 1 | vegan    | health     | goblu        | storm        |\n",
       "| 2 | recip    | care       | michigan     | across       |\n",
       "| 3 | tofu     | ppfa       | umichfootbal | week         |\n",
       "| 4 | chocol   | plan       | game         | tropic       |\n",
       "| 5 | easi     | parenthood | touchdown    | wind         |\n",
       "| 6 | made     | peopl      | problu       | rain         |\n",
       "| 7 | salad    | abort      | day          | state        |\n",
       "| 8 | bean     | women      | big          | unit         |\n",
       "| 9 | potato   | thank      | play         | thunderstorm |\n",
       "| 10 | chickpea | right      | go           | weather      |\n",
       "\n"
      ],
      "text/plain": [
       "   1        2          3            4           \n",
       "1  vegan    health     goblu        storm       \n",
       "2  recip    care       michigan     across      \n",
       "3  tofu     ppfa       umichfootbal week        \n",
       "4  chocol   plan       game         tropic      \n",
       "5  easi     parenthood touchdown    wind        \n",
       "6  made     peopl      problu       rain        \n",
       "7  salad    abort      day          state       \n",
       "8  bean     women      big          unit        \n",
       "9  potato   thank      play         thunderstorm\n",
       "10 chickpea right      go           weather     "
      ]
     },
     "metadata": {},
     "output_type": "display_data"
    }
   ],
   "source": [
    "#####################################\n",
    "############# Summary ###############\n",
    "#####################################\n",
    "\n",
    "# Contingency table \n",
    "# (1) coherence\n",
    "clustering_results_selected = as.numeric(Seurat_results[,which.max(avg_coherence)+1])\n",
    "df_compare = df_compare %>% mutate(Seurat_results = clustering_results_selected)\n",
    "organize = df_compare  %>% dplyr::count(screen_name, Seurat_results)  \n",
    "contingency_table_coh = spread(organize, screen_name, n, fill = 0, convert = FALSE)\n",
    "contingency_table_coh\n",
    "# (2) silhouette\n",
    "clustering_results_selected = as.numeric(Seurat_results[,which.max(avg_widths)+1])\n",
    "df_compare = df_compare %>% mutate(Seurat_results = clustering_results_selected)\n",
    "organize = df_compare  %>% dplyr::count(screen_name, Seurat_results)  \n",
    "contingency_table_sil = spread(organize, screen_name, n, fill = 0, convert = FALSE)\n",
    "contingency_table_sil\n",
    "\n",
    "# Top 10 words \n",
    "# (1) coherence\n",
    "clustering_results_selected = as.numeric(Seurat_results[,which.max(avg_coherence)+1])\n",
    "df_compare = df_compare %>% mutate(Seurat_results = clustering_results_selected)\n",
    "summary_table = data.frame(1:ncol(tfidf_sparse_matrix))\n",
    "for(j in 1:length(unique(df_compare$Seurat_results))){\n",
    "  \n",
    "  cluster_j = tfidf_sparse_matrix[as.numeric(df_compare %>% filter(Seurat_results == j) %>% .$idx),]\n",
    "  \n",
    "  words = colSums(cluster_j)/nrow(cluster_j)\n",
    "  sort_by_freq = sort(words, decreasing = TRUE)\n",
    "  \n",
    "  summary_table = cbind(summary_table, data.frame(names(sort_by_freq)))\n",
    "  }\n",
    "    \n",
    "summary_table_coh = summary_table[,-1]\n",
    "names(summary_table_coh) = as.character(1:length(unique(df_compare$Seurat_results)))\n",
    "head(summary_table_coh, 10)\n",
    "\n",
    "# (2) silhouette\n",
    "clustering_results_selected = as.numeric(Seurat_results[,which.max(avg_widths)+1])\n",
    "df_compare = df_compare %>% mutate(Seurat_results = clustering_results_selected)\n",
    "summary_table = data.frame(1:ncol(tfidf_sparse_matrix))\n",
    "for(j in 1:length(unique(df_compare$Seurat_results))){\n",
    "  \n",
    "  cluster_j = tfidf_sparse_matrix[as.numeric(df_compare %>% filter(Seurat_results == j) %>% .$idx),]\n",
    "  \n",
    "  words = colSums(cluster_j)/nrow(cluster_j)\n",
    "  sort_by_freq = sort(words, decreasing = TRUE)\n",
    "  \n",
    "  summary_table = cbind(summary_table, data.frame(names(sort_by_freq)))\n",
    "  }\n",
    "    \n",
    "summary_table_sil = summary_table[,-1]\n",
    "names(summary_table_sil) = as.character(1:length(unique(df_compare$Seurat_results)))\n",
    "head(summary_table_sil, 10)"
   ]
  },
  {
   "cell_type": "code",
   "execution_count": 17,
   "id": "hydraulic-english",
   "metadata": {},
   "outputs": [
    {
     "name": "stderr",
     "output_type": "stream",
     "text": [
      "Computing nearest neighbor graph\n",
      "\n",
      "Computing SNN\n",
      "\n"
     ]
    },
    {
     "name": "stdout",
     "output_type": "stream",
     "text": [
      "Modularity Optimizer version 1.3.0 by Ludo Waltman and Nees Jan van Eck\n",
      "\n",
      "Number of nodes: 12507\n",
      "Number of edges: 1260772\n",
      "\n",
      "Running Louvain algorithm...\n",
      "Maximum modularity in 10 random starts: 0.8671\n",
      "Number of communities: 20\n",
      "Elapsed time: 6 seconds\n"
     ]
    },
    {
     "name": "stderr",
     "output_type": "stream",
     "text": [
      "Computing nearest neighbor graph\n",
      "\n",
      "Computing SNN\n",
      "\n"
     ]
    },
    {
     "name": "stdout",
     "output_type": "stream",
     "text": [
      "Modularity Optimizer version 1.3.0 by Ludo Waltman and Nees Jan van Eck\n",
      "\n",
      "Number of nodes: 12507\n",
      "Number of edges: 37900274\n",
      "\n",
      "Running Louvain algorithm...\n",
      "Maximum modularity in 10 random starts: 0.3732\n",
      "Number of communities: 4\n",
      "Elapsed time: 485 seconds\n"
     ]
    }
   ],
   "source": [
    "########################################################\n",
    "############# Useful Visualization Tools ###############\n",
    "########################################################\n",
    "\n",
    "pbmc_coh <- FindNeighbors(pbmc, dims = 1:25, k.param = k_range[which.max(avg_coherence)])\n",
    "pbmc_coh <- FindClusters(pbmc_coh, random.seed = 44)\n",
    "\n",
    "pbmc_sil <- FindNeighbors(pbmc, dims = 1:25, k.param = k_range[which.max(avg_widths)])\n",
    "pbmc_sil <- FindClusters(pbmc_sil, random.seed = 44)"
   ]
  },
  {
   "cell_type": "code",
   "execution_count": 18,
   "id": "large-sending",
   "metadata": {},
   "outputs": [
    {
     "ename": "ERROR",
     "evalue": "Error in select_feature(summary_table_coh, 2, 3): could not find function \"select_feature\"\n",
     "output_type": "error",
     "traceback": [
      "Error in select_feature(summary_table_coh, 2, 3): could not find function \"select_feature\"\nTraceback:\n"
     ]
    }
   ],
   "source": [
    "coherence_feature_words = select_feature(summary_table_coh, 2, 3)\n",
    "silhouette_feature_words = select_feature(summary_table_sil, 3, 3)"
   ]
  },
  {
   "cell_type": "code",
   "execution_count": 30,
   "id": "demonstrated-episode",
   "metadata": {},
   "outputs": [
    {
     "name": "stderr",
     "output_type": "stream",
     "text": [
      "Picking joint bandwidth of 1.59e-06\n",
      "\n",
      "Picking joint bandwidth of 1.5e-06\n",
      "\n",
      "Picking joint bandwidth of 1.83e-06\n",
      "\n",
      "Picking joint bandwidth of 1.52e-06\n",
      "\n"
     ]
    },
    {
     "data": {
      "image/png": "[encoded data removed]",
      "text/plain": [
       "plot without title"
      ]
     },
     "metadata": {
      "image/png": {
       "height": 420,
       "width": 420
      }
     },
     "output_type": "display_data"
    }
   ],
   "source": [
    "p2"
   ]
  },
  {
   "cell_type": "code",
   "execution_count": 31,
   "id": "potential-gnome",
   "metadata": {},
   "outputs": [
    {
     "name": "stderr",
     "output_type": "stream",
     "text": [
      "23:19:47 UMAP embedding parameters a = 0.9922 b = 1.112\n",
      "\n",
      "23:19:47 Read 12507 rows and found 25 numeric columns\n",
      "\n",
      "23:19:47 Using Annoy for neighbor search, n_neighbors = 30\n",
      "\n",
      "23:19:47 Building Annoy index with metric = cosine, n_trees = 50\n",
      "\n",
      "0%   10   20   30   40   50   60   70   80   90   100%\n",
      "\n",
      "[----|----|----|----|----|----|----|----|----|----|\n",
      "\n",
      "*\n",
      "*\n",
      "*\n",
      "*\n",
      "*\n",
      "*\n",
      "*\n",
      "*\n",
      "*\n",
      "*\n",
      "*\n",
      "*\n",
      "*\n",
      "*\n",
      "*\n",
      "*\n",
      "*\n",
      "*\n",
      "*\n",
      "*\n",
      "*\n",
      "*\n",
      "*\n",
      "*\n",
      "*\n",
      "*\n",
      "*\n",
      "*\n",
      "*\n",
      "*\n",
      "*\n",
      "*\n",
      "*\n",
      "*\n",
      "*\n",
      "*\n",
      "*\n",
      "*\n",
      "*\n",
      "*\n",
      "*\n",
      "*\n",
      "*\n",
      "*\n",
      "*\n",
      "*\n",
      "*\n",
      "*\n",
      "*\n",
      "*\n",
      "|\n",
      "\n",
      "23:19:49 Writing NN index file to temp file /tmp/Rtmprj9szc/file52a6d614f04\n",
      "\n",
      "23:19:49 Searching Annoy index using 1 thread, search_k = 3000\n",
      "\n",
      "23:19:54 Annoy recall = 99.66%\n",
      "\n",
      "23:19:55 Commencing smooth kNN distance calibration using 1 thread\n",
      "\n",
      "23:19:55 557 smooth knn distance failures\n",
      "\n",
      "23:19:56 Initializing from normalized Laplacian + noise\n",
      "\n",
      "23:19:56 Commencing optimization for 200 epochs, with 521076 positive edges\n",
      "\n",
      "23:20:02 Optimization finished\n",
      "\n",
      "23:20:03 UMAP embedding parameters a = 0.9922 b = 1.112\n",
      "\n",
      "23:20:03 Read 12507 rows and found 25 numeric columns\n",
      "\n",
      "23:20:03 Using Annoy for neighbor search, n_neighbors = 30\n",
      "\n",
      "23:20:03 Building Annoy index with metric = cosine, n_trees = 50\n",
      "\n",
      "0%   10   20   30   40   50   60   70   80   90   100%\n",
      "\n",
      "[----|----|----|----|----|----|----|----|----|----|\n",
      "\n",
      "*\n",
      "*\n",
      "*\n",
      "*\n",
      "*\n",
      "*\n",
      "*\n",
      "*\n",
      "*\n",
      "*\n",
      "*\n",
      "*\n",
      "*\n",
      "*\n",
      "*\n",
      "*\n",
      "*\n",
      "*\n",
      "*\n",
      "*\n",
      "*\n",
      "*\n",
      "*\n",
      "*\n",
      "*\n",
      "*\n",
      "*\n",
      "*\n",
      "*\n",
      "*\n",
      "*\n",
      "*\n",
      "*\n",
      "*\n",
      "*\n",
      "*\n",
      "*\n",
      "*\n",
      "*\n",
      "*\n",
      "*\n",
      "*\n",
      "*\n",
      "*\n",
      "*\n",
      "*\n",
      "*\n",
      "*\n",
      "*\n",
      "*\n",
      "|\n",
      "\n",
      "23:20:05 Writing NN index file to temp file /tmp/Rtmprj9szc/file52aff6e566\n",
      "\n",
      "23:20:05 Searching Annoy index using 1 thread, search_k = 3000\n",
      "\n",
      "23:20:09 Annoy recall = 99.66%\n",
      "\n",
      "23:20:10 Commencing smooth kNN distance calibration using 1 thread\n",
      "\n",
      "23:20:10 557 smooth knn distance failures\n",
      "\n",
      "23:20:11 Initializing from normalized Laplacian + noise\n",
      "\n",
      "23:20:12 Commencing optimization for 200 epochs, with 521076 positive edges\n",
      "\n",
      "23:20:18 Optimization finished\n",
      "\n",
      "23:20:18 UMAP embedding parameters a = 0.9922 b = 1.112\n",
      "\n",
      "23:20:18 Read 12507 rows and found 25 numeric columns\n",
      "\n",
      "23:20:18 Using Annoy for neighbor search, n_neighbors = 30\n",
      "\n",
      "23:20:18 Building Annoy index with metric = cosine, n_trees = 50\n",
      "\n",
      "0%   10   20   30   40   50   60   70   80   90   100%\n",
      "\n",
      "[----|----|----|----|----|----|----|----|----|----|\n",
      "\n",
      "*\n",
      "*\n",
      "*\n",
      "*\n",
      "*\n",
      "*\n",
      "*\n",
      "*\n",
      "*\n",
      "*\n",
      "*\n",
      "*\n",
      "*\n",
      "*\n",
      "*\n",
      "*\n",
      "*\n",
      "*\n",
      "*\n",
      "*\n",
      "*\n",
      "*\n",
      "*\n",
      "*\n",
      "*\n",
      "*\n",
      "*\n",
      "*\n",
      "*\n",
      "*\n",
      "*\n",
      "*\n",
      "*\n",
      "*\n",
      "*\n",
      "*\n",
      "*\n",
      "*\n",
      "*\n",
      "*\n",
      "*\n",
      "*\n",
      "*\n",
      "*\n",
      "*\n",
      "*\n",
      "*\n",
      "*\n",
      "*\n",
      "*\n",
      "|\n",
      "\n",
      "23:20:20 Writing NN index file to temp file /tmp/Rtmprj9szc/file52a6cd7cb0a\n",
      "\n",
      "23:20:20 Searching Annoy index using 1 thread, search_k = 3000\n",
      "\n",
      "23:20:25 Annoy recall = 99.66%\n",
      "\n",
      "23:20:26 Commencing smooth kNN distance calibration using 1 thread\n",
      "\n",
      "23:20:26 557 smooth knn distance failures\n",
      "\n",
      "23:20:27 Initializing from normalized Laplacian + noise\n",
      "\n",
      "23:20:27 Commencing optimization for 200 epochs, with 521076 positive edges\n",
      "\n",
      "23:20:34 Optimization finished\n",
      "\n"
     ]
    }
   ],
   "source": [
    "##################\n",
    "#### (1) UMAP ####\n",
    "##################\n",
    "\n",
    "pbmc <- RunUMAP(pbmc, dims = 1:25)\n",
    "pbmc_coh <- RunUMAP(pbmc_coh, dims = 1:25)\n",
    "pbmc_sil <- RunUMAP(pbmc_sil, dims = 1:25)\n",
    "\n",
    "# True labels\n",
    "p = DimPlot(pbmc, reduction = \"umap\", group.by = \"screen_name\", label = TRUE,\n",
    "  label.size = 7)\n",
    "ggsave(\"S_plots/seurat_four_true_umap.png\", p, width=3, height=3, units=\"in\", scale=3)\n",
    "\n",
    "# coherence \n",
    "p1 = DimPlot(pbmc_coh, reduction = \"umap\", label = TRUE,\n",
    "  label.size = 7)\n",
    "ggsave(\"S_plots/seurat_four_coh_estimate_umap.png\", p1, width=3, height=3, units=\"in\", scale=3)\n",
    "\n",
    "# silhouette \n",
    "p2 = DimPlot(pbmc_sil, reduction = \"umap\", label = TRUE,\n",
    "  label.size = 7)\n",
    "ggsave(\"S_plots/seurat_four_sil_estimate_umap.png\", p2, width=3, height=3, units=\"in\", scale=3)"
   ]
  },
  {
   "cell_type": "code",
   "execution_count": 25,
   "id": "composed-guide",
   "metadata": {},
   "outputs": [
    {
     "name": "stderr",
     "output_type": "stream",
     "text": [
      "Scale for 'y' is already present. Adding another scale for 'y', which will\n",
      "replace the existing scale.\n",
      "\n",
      "Scale for 'y' is already present. Adding another scale for 'y', which will\n",
      "replace the existing scale.\n",
      "\n",
      "Scale for 'y' is already present. Adding another scale for 'y', which will\n",
      "replace the existing scale.\n",
      "\n",
      "Scale for 'y' is already present. Adding another scale for 'y', which will\n",
      "replace the existing scale.\n",
      "\n"
     ]
    }
   ],
   "source": [
    "####################\n",
    "#### (2) violin ####\n",
    "####################\n",
    "\n",
    "features = c(\"vegan\", \"health\", \"goblu\", \"storm\")\n",
    "p1 = StackedVlnPlot(obj = pbmc, features = features, slot = \"count\")\n",
    "ggsave(\"S_plots/Seurat_four_sil_violin.png\", p1, width=3, height=3, units=\"in\", scale=3)"
   ]
  },
  {
   "cell_type": "code",
   "execution_count": 26,
   "id": "elementary-adjustment",
   "metadata": {},
   "outputs": [
    {
     "data": {
      "image/png": "[encoded data removed]",
      "text/plain": [
       "plot without title"
      ]
     },
     "metadata": {
      "image/png": {
       "height": 420,
       "width": 420
      }
     },
     "output_type": "display_data"
    }
   ],
   "source": [
    "p1"
   ]
  },
  {
   "cell_type": "code",
   "execution_count": 27,
   "id": "fluid-hungary",
   "metadata": {},
   "outputs": [
    {
     "name": "stderr",
     "output_type": "stream",
     "text": [
      "Picking joint bandwidth of 1.59e-06\n",
      "\n",
      "Picking joint bandwidth of 1.5e-06\n",
      "\n",
      "Picking joint bandwidth of 1.83e-06\n",
      "\n",
      "Picking joint bandwidth of 1.52e-06\n",
      "\n"
     ]
    }
   ],
   "source": [
    "###################\n",
    "#### (3) Ridge ####\n",
    "###################\n",
    "\n",
    "p2 = RidgePlot(pbmc, features = features, ncol = 2)\n",
    "ggsave(\"S_plots/Seurat_four_sil_ridge.png\", p2, width=3, height=3, units=\"in\", scale=3)"
   ]
  },
  {
   "cell_type": "code",
   "execution_count": 28,
   "id": "advance-groove",
   "metadata": {},
   "outputs": [
    {
     "name": "stderr",
     "output_type": "stream",
     "text": [
      "Picking joint bandwidth of 1.59e-06\n",
      "\n",
      "Picking joint bandwidth of 1.5e-06\n",
      "\n",
      "Picking joint bandwidth of 1.83e-06\n",
      "\n",
      "Picking joint bandwidth of 1.52e-06\n",
      "\n"
     ]
    },
    {
     "data": {
      "image/png": "[encoded data removed]",
      "text/plain": [
       "plot without title"
      ]
     },
     "metadata": {
      "image/png": {
       "height": 420,
       "width": 420
      }
     },
     "output_type": "display_data"
    }
   ],
   "source": [
    "p2"
   ]
  },
  {
   "cell_type": "code",
   "execution_count": 112,
   "id": "worth-heritage",
   "metadata": {},
   "outputs": [],
   "source": [
    "#####################\n",
    "#### (4) Feature ####\n",
    "#####################\n",
    "\n",
    "p3 = FeaturePlot(pbmc, features = features, slot = \"count\")\n",
    "ggsave(\"S_plots/Seurat_four_sil_feature.png\", p3, width=3, height=3, units=\"in\", scale=3)"
   ]
  },
  {
   "cell_type": "code",
   "execution_count": 122,
   "id": "perfect-float",
   "metadata": {},
   "outputs": [],
   "source": [
    "#################\n",
    "#### (4) Dot ####\n",
    "#################\n",
    "\n",
    "p4 = DotPlot(pbmc_coh, features = coherence_feature_words) + RotatedAxis()\n",
    "ggsave(\"S_plots/Seurat_four_coh_dot.png\", p4, width=5, height=5, units=\"in\", scale=3)"
   ]
  },
  {
   "cell_type": "markdown",
   "id": "varied-residence",
   "metadata": {},
   "source": [
    "#### Supplementary functions\n",
    "##### Source:\n",
    "(1) https://divingintogeneticsandgenomics.rbind.io/post/stacked-violin-plot-for-visualizing-single-cell-data-in-seurat/"
   ]
  },
  {
   "cell_type": "code",
   "execution_count": 19,
   "id": "pacific-whale",
   "metadata": {},
   "outputs": [],
   "source": [
    "# Define a function to find feature words\n",
    "# Input: (1) word_freqency_summary: a dataframe where the words are sorted (DESC) by tfidf for each cluster\n",
    "#        (2) n: top n words to constiute the list of feature words\n",
    "#        (3) freq_n: exclude the words with <= freq_n letters\n",
    "select_feature = function(word_freqency_summary, n, freq_n){\n",
    "    marker = unique(as.vector(as.matrix(word_freqency_summary)[1:n,]))\n",
    "    Final_marker = vector()\n",
    "    for(i in 1:length(marker)){\n",
    "        # exclude the words with <= freq_n letters\n",
    "        if(nchar(marker[i])>freq_n){\n",
    "            Final_marker = c(Final_marker, marker[i])\n",
    "        }\n",
    "    } \n",
    "    return(Final_marker)\n",
    "}"
   ]
  },
  {
   "cell_type": "code",
   "execution_count": 20,
   "id": "excessive-borough",
   "metadata": {},
   "outputs": [],
   "source": [
    "library(Seurat)\n",
    "library(patchwork)\n",
    "library(ggplot2)\n",
    "\n",
    "## remove the x-axis text and tick\n",
    "## plot.margin to adjust the white space between each plot.\n",
    "## ... pass any arguments to VlnPlot in Seurat\n",
    "modify_vlnplot<- function(obj, \n",
    "                          feature, \n",
    "                          pt.size = 0.001, \n",
    "                          plot.margin = unit(c(-0.75, 0, -0.75, 0), \"cm\"),\n",
    "                          ...) {\n",
    "  p<- VlnPlot(obj, features = feature, pt.size = pt.size, ... )  + \n",
    "    xlab(\"\") + ylab(feature) + ggtitle(\"\") + \n",
    "    theme(legend.position = \"none\", \n",
    "          axis.text.x = element_blank(), \n",
    "          axis.ticks.x = element_blank(), \n",
    "          axis.title.y = element_text(size = rel(1), angle = 0), \n",
    "          axis.text.y = element_text(size = rel(1)), \n",
    "          plot.margin = plot.margin ) \n",
    "  return(p)\n",
    "}\n",
    "\n",
    "## extract the max value of the y axis\n",
    "extract_max<- function(p){\n",
    "  ymax<- max(ggplot_build(p)$layout$panel_scales_y[[1]]$range$range)\n",
    "  return(ceiling(ymax))\n",
    "}\n",
    "\n",
    "\n",
    "## main function\n",
    "StackedVlnPlot<- function(obj, features,\n",
    "                          pt.size = 0.001, \n",
    "                          plot.margin = unit(c(-0.75, 0, -0.75, 0), \"cm\"),\n",
    "                          ...) {\n",
    "  \n",
    "  plot_list<- purrr::map(features, function(x) modify_vlnplot(obj = obj,feature = x, ...))\n",
    "  \n",
    "  # Add back x-axis title to bottom plot. patchwork is going to support this?\n",
    "  plot_list[[length(plot_list)]]<- plot_list[[length(plot_list)]] +\n",
    "    theme(axis.text.x=element_text(), axis.ticks.x = element_line())\n",
    "  \n",
    "  # change the y-axis tick to only max value \n",
    "  ymaxs<- purrr::map_dbl(plot_list, extract_max)\n",
    "  plot_list<- purrr::map2(plot_list, ymaxs, function(x,y) x + \n",
    "                            scale_y_continuous(breaks = c(y)) + \n",
    "                            expand_limits(y = y))\n",
    "\n",
    "  p<- patchwork::wrap_plots(plotlist = plot_list, ncol = 1)\n",
    "  return(p)\n",
    "}"
   ]
  },
  {
   "cell_type": "raw",
   "id": "scheduled-possession",
   "metadata": {},
   "source": [
    "# Plot expression of multiple features by identity on a plot\n",
    "#\n",
    "# @param data Data to plot\n",
    "# @param idents Idents to use\n",
    "# @param type Make either a 'ridge' or 'violin' plot\n",
    "# @param sort Sort identity classes and features based on hierarchical clustering\n",
    "# @param same.y.lims Indicates whether to use the same ylim for each feature\n",
    "# @param adjust Adjust parameter for geom_violin\n",
    "# @param cols Colors to use for plotting\n",
    "# @param log plot Y axis on log scale\n",
    "# @param fill.by Color violins/ridges based on either 'feature' or 'ident'\n",
    "# @param seed.use Random seed to use. If NULL, don't set a seed\n",
    "# @param flip flip plot orientation (identities on x-axis)\n",
    "#\n",
    "# @return A ggplot-based Expression-by-Identity plot\n",
    "#\n",
    "#' @importFrom cowplot theme_cowplot\n",
    "#' @importFrom utils globalVariables\n",
    "#' @importFrom stats rnorm dist hclust\n",
    "#' @importFrom ggridges geom_density_ridges theme_ridges\n",
    "#' @importFrom ggplot2 ggplot aes_string facet_grid theme labs geom_rect\n",
    "#' geom_violin geom_jitter ylim position_jitterdodge scale_fill_manual\n",
    "#' scale_y_log10 scale_x_log10 scale_y_discrete scale_x_continuous\n",
    "#' scale_y_continuous waiver\n",
    "#'\n",
    "MultiExIPlot <- function(\n",
    "  data,\n",
    "  idents,\n",
    "  split = NULL,\n",
    "  type = 'violin',\n",
    "  sort = FALSE,\n",
    "  same.y.lims = same.y.lims,\n",
    "  adjust = 1,\n",
    "  pt.size = 0,\n",
    "  cols = NULL,\n",
    "  seed.use = 42,\n",
    "  log = FALSE,\n",
    "  fill.by = NULL,\n",
    "  flip = NULL\n",
    ") {\n",
    "  if (!(fill.by %in% c(\"feature\", \"ident\"))) {\n",
    "    stop(\"`fill.by` must be either `feature` or `ident`\")\n",
    "  }\n",
    "  if (!is.null(x = seed.use)) {\n",
    "    set.seed(seed = seed.use)\n",
    "  }\n",
    "  if (!is.data.frame(x = data) || ncol(x = data) < 2) {\n",
    "    stop(\"MultiExIPlot requires a data frame with >1 column\")\n",
    "  }\n",
    "  data <- Melt(x = data)\n",
    "  data <- data.frame(\n",
    "    feature = data$cols,\n",
    "    expression = data$vals,\n",
    "    ident = rep_len(x = idents, length.out = nrow(x = data))\n",
    "  )\n",
    "  if ((is.character(x = sort) && nchar(x = sort) > 0) || sort) {\n",
    "    data$feature <- as.vector(x = data$feature)\n",
    "    data$ident <- as.vector(x = data$ident)\n",
    "    # build matrix of average expression (#-features by #-idents), lexical ordering\n",
    "    avgs.matrix <- sapply(\n",
    "      X = split(x = data, f = data$ident),\n",
    "      FUN = function(df) {\n",
    "        return(tapply(\n",
    "          X = df$expression,\n",
    "          INDEX = df$feature,\n",
    "          FUN = mean\n",
    "        ))\n",
    "      }\n",
    "    )\n",
    "    idents.order <- hclust(d = dist(x = t(x = L2Norm(mat = avgs.matrix, MARGIN = 2))))$order\n",
    "    avgs.matrix <- avgs.matrix[,idents.order]\n",
    "    avgs.matrix <- L2Norm(mat = avgs.matrix, MARGIN = 1)\n",
    "    # order feature clusters by position of their \"rank-1 idents\"\n",
    "    position <- apply(X = avgs.matrix, MARGIN = 1, FUN = which.max)\n",
    "    mat <- hclust(d = dist(x = avgs.matrix))$merge\n",
    "    orderings <- list()\n",
    "    for (i in 1:nrow(mat)) {\n",
    "      x <- if (mat[i,1] < 0) -mat[i,1] else orderings[[mat[i,1]]]\n",
    "      y <- if (mat[i,2] < 0) -mat[i,2] else orderings[[mat[i,2]]]\n",
    "      x.pos <- min(x = position[x])\n",
    "      y.pos <- min(x = position[y])\n",
    "      orderings[[i]] <- if (x.pos < y.pos) {\n",
    "        c(x, y)\n",
    "      } else {\n",
    "        c(y, x)\n",
    "      }\n",
    "    }\n",
    "    features.order <- orderings[[length(x = orderings)]]\n",
    "    data$feature <- factor(\n",
    "      x = data$feature,\n",
    "      levels = unique(x = sort(x = data$feature))[features.order]\n",
    "    )\n",
    "    data$ident <- factor(\n",
    "      x = data$ident,\n",
    "      levels = unique(x = sort(x = data$ident))[rev(x = idents.order)]\n",
    "    )\n",
    "  } else {\n",
    "    data$feature <- factor(x = data$feature, levels = unique(x = data$feature))\n",
    "  }\n",
    "  if (log) {\n",
    "    noise <- rnorm(n = nrow(x = data)) / 200\n",
    "    data$expression <- data$expression + 1\n",
    "  } else {\n",
    "    noise <- rnorm(n = nrow(x = data)) / 100000\n",
    "  }\n",
    "  for (f in unique(x = data$feature)) {\n",
    "    if (all(data$expression[(data$feature == f)] == data$expression[(data$feature == f)][1])) {\n",
    "      warning(\n",
    "        \"All cells have the same value of \",\n",
    "        f,\n",
    "        call. = FALSE,\n",
    "        immediate. = TRUE\n",
    "      )\n",
    "    } else {\n",
    "      data$expression[(data$feature == f)] <- data$expression[(data$feature == f)] + noise[(data$feature == f)]\n",
    "    }\n",
    "  }\n",
    "  if (type == 'violin' && !is.null(x = split)) {\n",
    "    data$split <- rep_len(x = split, length.out = nrow(data))\n",
    "    vln.geom <- geom_violin\n",
    "    fill.by <- 'split'\n",
    "  } else if (type == 'splitViolin' && !is.null(x = split)) {\n",
    "    data$split <- rep_len(x = split, length.out = nrow(data))\n",
    "    vln.geom <- geom_split_violin\n",
    "    fill.by <- 'split'\n",
    "    type <- 'violin'\n",
    "  } else {\n",
    "    vln.geom <- geom_violin\n",
    "  }\n",
    "  switch(\n",
    "    EXPR = type,\n",
    "    'violin' = {\n",
    "      geom <- list(vln.geom(scale = 'width', adjust = adjust, trim = TRUE))\n",
    "    },\n",
    "    'ridge' = {\n",
    "      geom <- list(\n",
    "        geom_density_ridges(scale = 4),\n",
    "        theme_ridges(),\n",
    "        scale_y_discrete(expand = c(0.01, 0))\n",
    "      )\n",
    "    },\n",
    "    stop(\"Unknown plot type: \", type)\n",
    "  )\n",
    "  if (flip) {\n",
    "    x <- 'ident'\n",
    "    x.label <- 'Identity'\n",
    "    y <- 'expression'\n",
    "    y.label <- 'Expression Level'\n",
    "  } else {\n",
    "    y <- 'ident'\n",
    "    y.label <- 'Identity'\n",
    "    x <- 'expression'\n",
    "    x.label <- 'Expression Level'\n",
    "  }\n",
    "  plot <- ggplot(\n",
    "    data = data,\n",
    "    mapping = aes_string(x = x, y = y, fill = fill.by)[c(2, 3, 1)]\n",
    "  ) +\n",
    "    labs(x = x.label, y = y.label, fill = NULL) +\n",
    "    theme_cowplot()\n",
    "  plot <- do.call(what = '+', args = list(plot, geom))\n",
    "  if (flip) {\n",
    "    plot <- plot +\n",
    "      scale_y_continuous(\n",
    "        expand = c(0, 0),\n",
    "        labels = function(x) c(rep(x = '', times = length(x)-2), x[length(x) - 1], '')) +\n",
    "      facet_grid(feature ~ ., scales = (if (same.y.lims) 'fixed' else 'free')) +\n",
    "      FacetTheme(\n",
    "        panel.spacing = unit(0, 'lines'),\n",
    "        panel.background = element_rect(fill = NA, color = \"black\"),\n",
    "        axis.text.y = element_text(size = 7),\n",
    "        axis.text.x = element_text(angle = 45, hjust = 1),\n",
    "        strip.text.y.right = element_text(angle = 0))\n",
    "  } else {\n",
    "    plot <- plot +\n",
    "      scale_x_continuous(\n",
    "        expand = c(0, 0),\n",
    "        labels = function(x) c(rep(x = '', times = length(x)-2), x[length(x) - 1], '')) +\n",
    "      facet_grid(. ~ feature, scales = (if (same.y.lims) 'fixed' else 'free')) +\n",
    "      FacetTheme(\n",
    "        panel.spacing = unit(0, 'lines'),\n",
    "        panel.background = element_rect(fill = NA, color = \"black\"),\n",
    "        axis.text.x = element_text(size = 7),\n",
    "        strip.text.x = element_text(angle = -90))\n",
    "  }\n",
    "  if (log) {\n",
    "    plot <- plot + scale_x_log10()\n",
    "  }\n",
    "  if (!is.null(x = cols)) {\n",
    "    if (!is.null(x = split)) {\n",
    "      idents <- unique(x = as.vector(x = data$ident))\n",
    "      splits <- unique(x = as.vector(x = data$split))\n",
    "      labels <- if (length(x = splits) == 2) {\n",
    "        splits\n",
    "      } else {\n",
    "        unlist(x = lapply(\n",
    "          X = idents,\n",
    "          FUN = function(pattern, x) {\n",
    "            x.mod <- gsub(\n",
    "              pattern = paste0(pattern, '.'),\n",
    "              replacement = paste0(pattern, ': '),\n",
    "              x = x,\n",
    "              fixed = TRUE\n",
    "            )\n",
    "            x.keep <- grep(pattern = ': ', x = x.mod, fixed = TRUE)\n",
    "            x.return <- x.mod[x.keep]\n",
    "            names(x = x.return) <- x[x.keep]\n",
    "            return(x.return)\n",
    "          },\n",
    "          x = unique(x = as.vector(x = data$split))\n",
    "        ))\n",
    "      }\n",
    "      if (is.null(x = names(x = labels))) {\n",
    "        names(x = labels) <- labels\n",
    "      }\n",
    "    } else {\n",
    "      labels <- levels(x = droplevels(data$ident))\n",
    "    }\n",
    "    plot <- plot + scale_fill_manual(values = cols, labels = labels)\n",
    "  }\n",
    "  return(plot)\n",
    "}"
   ]
  }
 ],
 "metadata": {
  "kernelspec": {
   "display_name": "R",
   "language": "R",
   "name": "ir"
  },
  "language_info": {
   "codemirror_mode": "r",
   "file_extension": ".r",
   "mimetype": "text/x-r-source",
   "name": "R",
   "pygments_lexer": "r",
   "version": "4.0.3"
  }
 },
 "nbformat": 4,
 "nbformat_minor": 5
}
