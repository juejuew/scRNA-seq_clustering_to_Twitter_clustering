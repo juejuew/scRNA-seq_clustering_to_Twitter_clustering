{
 "cells": [
  {
   "cell_type": "code",
   "execution_count": 14,
   "id": "divine-dispute",
   "metadata": {},
   "outputs": [],
   "source": [
    "import re\n",
    "import numpy as np\n",
    "import pandas as pd\n",
    "from pprint import pprint\n",
    "from sklearn.feature_extraction.text import CountVectorizer, TfidfVectorizer\n",
    "from sklearn.decomposition import NMF"
   ]
  },
  {
   "cell_type": "code",
   "execution_count": 15,
   "id": "damaged-sixth",
   "metadata": {},
   "outputs": [],
   "source": [
    "four_doc_metadata = pd.read_csv('/home/rep/scRNA-seq_clustering_to_Twitter/preprocessing/doc_metadata_stemming_four_users.csv')\n",
    "del four_doc_metadata['Unnamed: 0']"
   ]
  },
  {
   "cell_type": "code",
   "execution_count": 16,
   "id": "gentle-fleece",
   "metadata": {},
   "outputs": [
    {
     "name": "stdout",
     "output_type": "stream",
     "text": [
      "       abil  abl  abort  absolut  abstin  abus  aca  academ  accept  access  \\\n",
      "0       0.0  0.0    0.0      0.0     0.0   0.0  0.0     0.0     0.0     0.0   \n",
      "1       0.0  0.0    0.0      0.0     0.0   0.0  0.0     0.0     0.0     0.0   \n",
      "2       0.0  0.0    0.0      0.0     0.0   0.0  0.0     0.0     0.0     0.0   \n",
      "3       0.0  0.0    0.0      0.0     0.0   0.0  0.0     0.0     0.0     0.0   \n",
      "4       0.0  0.0    0.0      0.0     0.0   0.0  0.0     0.0     0.0     0.0   \n",
      "...     ...  ...    ...      ...     ...   ...  ...     ...     ...     ...   \n",
      "12502   0.0  0.0    0.0      0.0     0.0   0.0  0.0     0.0     0.0     0.0   \n",
      "12503   0.0  0.0    0.0      0.0     0.0   0.0  0.0     0.0     0.0     0.0   \n",
      "12504   0.0  0.0    0.0      0.0     0.0   0.0  0.0     0.0     0.0     0.0   \n",
      "12505   0.0  0.0    0.0      0.0     0.0   0.0  0.0     0.0     0.0     0.0   \n",
      "12506   0.0  0.0    0.0      0.0     0.0   0.0  0.0     0.0     0.0     0.0   \n",
      "\n",
      "       ...  yesterday  yet  york  young  youth  yum  yummi  zach  zone  \\\n",
      "0      ...        0.0  0.0   0.0    0.0    0.0  0.0    0.0   0.0   0.0   \n",
      "1      ...        0.0  0.0   0.0    0.0    0.0  0.0    0.0   0.0   0.0   \n",
      "2      ...        0.0  0.0   0.0    0.0    0.0  0.0    0.0   0.0   0.0   \n",
      "3      ...        0.0  0.0   0.0    0.0    0.0  0.0    0.0   0.0   0.0   \n",
      "4      ...        0.0  0.0   0.0    0.0    0.0  0.0    0.0   0.0   0.0   \n",
      "...    ...        ...  ...   ...    ...    ...  ...    ...   ...   ...   \n",
      "12502  ...        0.0  0.0   0.0    0.0    0.0  0.0    0.0   0.0   0.0   \n",
      "12503  ...        0.0  0.0   0.0    0.0    0.0  0.0    0.0   0.0   0.0   \n",
      "12504  ...        0.0  0.0   0.0    0.0    0.0  0.0    0.0   0.0   0.0   \n",
      "12505  ...        0.0  0.0   0.0    0.0    0.0  0.0    0.0   0.0   0.0   \n",
      "12506  ...        0.0  0.0   0.0    0.0    0.0  0.0    0.0   0.0   0.0   \n",
      "\n",
      "       zucchini  \n",
      "0           0.0  \n",
      "1           0.0  \n",
      "2           0.0  \n",
      "3           0.0  \n",
      "4           0.0  \n",
      "...         ...  \n",
      "12502       0.0  \n",
      "12503       0.0  \n",
      "12504       0.0  \n",
      "12505       0.0  \n",
      "12506       0.0  \n",
      "\n",
      "[12507 rows x 2043 columns]\n"
     ]
    }
   ],
   "source": [
    "texts = four_doc_metadata['tweets_processed']\n",
    "tfidf_vectorizer = TfidfVectorizer()\n",
    "tfidf = tfidf_vectorizer.fit_transform(texts)\n",
    "\n",
    "DT_tfidf = pd.DataFrame(tfidf.toarray(), columns = tfidf_vectorizer.get_feature_names())\n",
    "print(DT_tfidf)"
   ]
  },
  {
   "cell_type": "code",
   "execution_count": 17,
   "id": "driving-representation",
   "metadata": {},
   "outputs": [],
   "source": [
    "# DT_tfidf.to_csv(\"M3_files/doc_word_matrix_stemming_four_users_tfidf.csv\")"
   ]
  }
 ],
 "metadata": {
  "kernelspec": {
   "display_name": "Python 3",
   "language": "python",
   "name": "python3"
  },
  "language_info": {
   "codemirror_mode": {
    "name": "ipython",
    "version": 3
   },
   "file_extension": ".py",
   "mimetype": "text/x-python",
   "name": "python",
   "nbconvert_exporter": "python",
   "pygments_lexer": "ipython3",
   "version": "3.8.5"
  }
 },
 "nbformat": 4,
 "nbformat_minor": 5
}
