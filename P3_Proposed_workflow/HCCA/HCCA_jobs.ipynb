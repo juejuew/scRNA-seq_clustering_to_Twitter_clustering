{
 "cells": [
  {
   "cell_type": "code",
   "execution_count": 2,
   "id": "curious-discipline",
   "metadata": {},
   "outputs": [],
   "source": [
    "library(dplyr)\n",
    "library(useful)\n",
    "library(Seurat)\n",
    "library(patchwork)\n",
    "library(cluster)\n",
    "library(ggplot2)\n",
    "library(randomNames)\n",
    "library(tidyverse)\n",
    "library(data.table)\n",
    "library(lubridate)\n",
    "library(ggplot2)\n",
    "library(stringr)\n",
    "library(monocle3)\n",
    "library(reshape2)\n",
    "library(pairwise)\n",
    "library(scales)"
   ]
  },
  {
   "cell_type": "code",
   "execution_count": 4,
   "id": "included-virtue",
   "metadata": {},
   "outputs": [],
   "source": [
    "# Define the hand-classification function \n",
    "# Input: (1) row: one row of the document metadata\n",
    "# Output: (1) label of the corresponding tweet from the hand-classification criteria\n",
    "\n",
    "hc_classify = function(row){\n",
    "  \n",
    "  tweetl = tolower(row$text)\n",
    "  user_name = tolower(row$sn)\n",
    "  \n",
    "  #1.\n",
    "  junk_words = c(\"steve\", \"apple\", \"iphone\", \"itunes\", \"ipad\", \"mac\", \"wozniak\", \"gates\", \"dirty\", \"blow\", \"hand\",\n",
    "                 \"whack\", \"nut\")\n",
    "  for(i in 1:length(junk_words)){\n",
    "    if(grepl(junk_words[i], tweetl, fixed=TRUE)){\n",
    "      return(\"Junk\")\n",
    "    }\n",
    "  }\n",
    "  \n",
    "  #2. \n",
    "  ad_word = c(\"#hiring\", \"#jobs\")\n",
    "  user_ad_word = c(\"job\", \"tmj\", \"career\")\n",
    "  for(i in 1:length(ad_word)){\n",
    "    if(grepl(ad_word[i], tweetl, fixed=TRUE)){\n",
    "      return(\"Advertisement\")\n",
    "    }\n",
    "  }\n",
    "  \n",
    "  for(i in 1:length(user_ad_word)){\n",
    "    if(grepl(user_ad_word[i], user_name, fixed=TRUE)){\n",
    "      return(\"Advertisement\")\n",
    "    }\n",
    "  }\n",
    "  \n",
    "  #3. \n",
    "  news_word = c(\"obama\", \"clinton\", \"trump\", \"mcconnell\", \"ryan\", \"boehner\", \"potus\", \"cantor\",\n",
    "                \"palin\", \"teaparty\", \"democrat\", \"repbulic\", \"mccain\", \"romney\", \"trade\", \"taxes\", \"senate\", \"president\", \"gop\")\n",
    "  user_news_word = c(\"news\")\n",
    "  for(i in 1:length(news_word)){\n",
    "    if(grepl(news_word[i], tweetl, fixed=TRUE)){\n",
    "      return(\"News/Politics\")\n",
    "    }\n",
    "  }\n",
    "  \n",
    "  for(i in 1:length(user_news_word)){\n",
    "    if(grepl(user_news_word[i], user_name, fixed=TRUE)){\n",
    "      return(\"News/Politics\")\n",
    "    }\n",
    "  }\n",
    "  \n",
    "  #4.\n",
    "  url_pattern <- \"http[s]?://(?:[a-zA-Z]|[0-9]|[$-_@.&+]|[!*\\\\(\\\\),]|(?:%[0-9a-fA-F][0-9a-fA-F]))+\"\n",
    "  if(grepl(url_pattern, tweetl)){\n",
    "     return(\"Other\")\n",
    "  }\n",
    "  \n",
    "  #5.\n",
    "  return(\"Personal\")\n",
    "}"
   ]
  },
  {
   "cell_type": "code",
   "execution_count": 5,
   "id": "understood-korea",
   "metadata": {},
   "outputs": [
    {
     "data": {
      "text/html": [
       "<style>\n",
       ".list-inline {list-style: none; margin:0; padding: 0}\n",
       ".list-inline>li {display: inline-block}\n",
       ".list-inline>li:not(:last-child)::after {content: \"\\00b7\"; padding: 0 .5ex}\n",
       "</style>\n",
       "<ol class=list-inline><li>27744</li><li>5</li></ol>\n"
      ],
      "text/latex": [
       "\\begin{enumerate*}\n",
       "\\item 27744\n",
       "\\item 5\n",
       "\\end{enumerate*}\n"
      ],
      "text/markdown": [
       "1. 27744\n",
       "2. 5\n",
       "\n",
       "\n"
      ],
      "text/plain": [
       "[1] 27744     5"
      ]
     },
     "metadata": {},
     "output_type": "display_data"
    },
    {
     "data": {
      "text/html": [
       "<table class=\"dataframe\">\n",
       "<caption>A data.frame: 6 × 5</caption>\n",
       "<thead>\n",
       "\t<tr><th></th><th scope=col>time</th><th scope=col>text</th><th scope=col>sn</th><th scope=col>date</th><th scope=col>tweets_processed</th></tr>\n",
       "\t<tr><th></th><th scope=col>&lt;chr&gt;</th><th scope=col>&lt;chr&gt;</th><th scope=col>&lt;chr&gt;</th><th scope=col>&lt;chr&gt;</th><th scope=col>&lt;chr&gt;</th></tr>\n",
       "</thead>\n",
       "<tbody>\n",
       "\t<tr><th scope=row>1</th><td>2009-08-01 10:25:36</td><td>Now Hiring:  Storage Architect II http://bit.ly/4iACm  Jobs                                                                       </td><td>ChicagoJobAds</td><td>2009-08-01</td><td>hire architect ii                                                    </td></tr>\n",
       "\t<tr><th scope=row>2</th><td>2009-08-01 22:57:06</td><td>\"The Steve Jobs method\" discussion on Hacker News: http://bit.ly/1b55N8 (via @ericries)                                           </td><td>hnshah       </td><td>2009-08-01</td><td>steve discuss news via                                               </td></tr>\n",
       "\t<tr><th scope=row>3</th><td>2009-08-01 23:27:08</td><td>AZ Jobs | Taco Bell Restaurant General Manager at Taco Bell (Peoria, AZ) http://bit.ly/18jiLD #Job #Hiring #AZJobs                </td><td>ZuluJobsAZ   </td><td>2009-08-01</td><td>az taco bell restaur gener manag taco bell peoria az hire azjob      </td></tr>\n",
       "\t<tr><th scope=row>4</th><td>2009-08-01 09:55:12</td><td>TN Jobs | SLP Travel Job in Knoxville Area, TN School System at Soliant Health (Kn.. http://u.mavrev.com/wuin #Job #Hiring #TNJobs</td><td>ZuluJobsTN   </td><td>2009-08-01</td><td>tn slp travel knoxvil area tn school system soliant health hire tnjob</td></tr>\n",
       "\t<tr><th scope=row>5</th><td>2009-08-01 05:58:39</td><td>NJ Jobs | New Jersey Travel or Perm job- OT at Sunbelt Staffing (NJ) http://bit.ly/yZzHR #Job #Hiring #NJJobs                     </td><td>ZuluJobsNJ   </td><td>2009-08-01</td><td>nj new jersey travel perm ot sunbelt staf nj hire njjob              </td></tr>\n",
       "\t<tr><th scope=row>6</th><td>2009-08-01 13:27:47</td><td>NJ Jobs | New Jersey Travel or Perm job- OT at Sunbelt Staffing (NJ) http://bit.ly/3Mu1Wz #Job #Hiring #NJJobs                    </td><td>ZuluJobsNJ   </td><td>2009-08-01</td><td>nj new jersey travel perm ot sunbelt staf nj hire njjob              </td></tr>\n",
       "</tbody>\n",
       "</table>\n"
      ],
      "text/latex": [
       "A data.frame: 6 × 5\n",
       "\\begin{tabular}{r|lllll}\n",
       "  & time & text & sn & date & tweets\\_processed\\\\\n",
       "  & <chr> & <chr> & <chr> & <chr> & <chr>\\\\\n",
       "\\hline\n",
       "\t1 & 2009-08-01 10:25:36 & Now Hiring:  Storage Architect II http://bit.ly/4iACm  Jobs                                                                        & ChicagoJobAds & 2009-08-01 & hire architect ii                                                    \\\\\n",
       "\t2 & 2009-08-01 22:57:06 & \"The Steve Jobs method\" discussion on Hacker News: http://bit.ly/1b55N8 (via @ericries)                                            & hnshah        & 2009-08-01 & steve discuss news via                                               \\\\\n",
       "\t3 & 2009-08-01 23:27:08 & AZ Jobs \\textbar{} Taco Bell Restaurant General Manager at Taco Bell (Peoria, AZ) http://bit.ly/18jiLD \\#Job \\#Hiring \\#AZJobs                 & ZuluJobsAZ    & 2009-08-01 & az taco bell restaur gener manag taco bell peoria az hire azjob      \\\\\n",
       "\t4 & 2009-08-01 09:55:12 & TN Jobs \\textbar{} SLP Travel Job in Knoxville Area, TN School System at Soliant Health (Kn.. http://u.mavrev.com/wuin \\#Job \\#Hiring \\#TNJobs & ZuluJobsTN    & 2009-08-01 & tn slp travel knoxvil area tn school system soliant health hire tnjob\\\\\n",
       "\t5 & 2009-08-01 05:58:39 & NJ Jobs \\textbar{} New Jersey Travel or Perm job- OT at Sunbelt Staffing (NJ) http://bit.ly/yZzHR \\#Job \\#Hiring \\#NJJobs                      & ZuluJobsNJ    & 2009-08-01 & nj new jersey travel perm ot sunbelt staf nj hire njjob              \\\\\n",
       "\t6 & 2009-08-01 13:27:47 & NJ Jobs \\textbar{} New Jersey Travel or Perm job- OT at Sunbelt Staffing (NJ) http://bit.ly/3Mu1Wz \\#Job \\#Hiring \\#NJJobs                     & ZuluJobsNJ    & 2009-08-01 & nj new jersey travel perm ot sunbelt staf nj hire njjob              \\\\\n",
       "\\end{tabular}\n"
      ],
      "text/markdown": [
       "\n",
       "A data.frame: 6 × 5\n",
       "\n",
       "| <!--/--> | time &lt;chr&gt; | text &lt;chr&gt; | sn &lt;chr&gt; | date &lt;chr&gt; | tweets_processed &lt;chr&gt; |\n",
       "|---|---|---|---|---|---|\n",
       "| 1 | 2009-08-01 10:25:36 | Now Hiring:  Storage Architect II http://bit.ly/4iACm  Jobs                                                                        | ChicagoJobAds | 2009-08-01 | hire architect ii                                                     |\n",
       "| 2 | 2009-08-01 22:57:06 | \"The Steve Jobs method\" discussion on Hacker News: http://bit.ly/1b55N8 (via @ericries)                                            | hnshah        | 2009-08-01 | steve discuss news via                                                |\n",
       "| 3 | 2009-08-01 23:27:08 | AZ Jobs | Taco Bell Restaurant General Manager at Taco Bell (Peoria, AZ) http://bit.ly/18jiLD #Job #Hiring #AZJobs                 | ZuluJobsAZ    | 2009-08-01 | az taco bell restaur gener manag taco bell peoria az hire azjob       |\n",
       "| 4 | 2009-08-01 09:55:12 | TN Jobs | SLP Travel Job in Knoxville Area, TN School System at Soliant Health (Kn.. http://u.mavrev.com/wuin #Job #Hiring #TNJobs | ZuluJobsTN    | 2009-08-01 | tn slp travel knoxvil area tn school system soliant health hire tnjob |\n",
       "| 5 | 2009-08-01 05:58:39 | NJ Jobs | New Jersey Travel or Perm job- OT at Sunbelt Staffing (NJ) http://bit.ly/yZzHR #Job #Hiring #NJJobs                      | ZuluJobsNJ    | 2009-08-01 | nj new jersey travel perm ot sunbelt staf nj hire njjob               |\n",
       "| 6 | 2009-08-01 13:27:47 | NJ Jobs | New Jersey Travel or Perm job- OT at Sunbelt Staffing (NJ) http://bit.ly/3Mu1Wz #Job #Hiring #NJJobs                     | ZuluJobsNJ    | 2009-08-01 | nj new jersey travel perm ot sunbelt staf nj hire njjob               |\n",
       "\n"
      ],
      "text/plain": [
       "  time               \n",
       "1 2009-08-01 10:25:36\n",
       "2 2009-08-01 22:57:06\n",
       "3 2009-08-01 23:27:08\n",
       "4 2009-08-01 09:55:12\n",
       "5 2009-08-01 05:58:39\n",
       "6 2009-08-01 13:27:47\n",
       "  text                                                                                                                              \n",
       "1 Now Hiring:  Storage Architect II http://bit.ly/4iACm  Jobs                                                                       \n",
       "2 \"The Steve Jobs method\" discussion on Hacker News: http://bit.ly/1b55N8 (via @ericries)                                           \n",
       "3 AZ Jobs | Taco Bell Restaurant General Manager at Taco Bell (Peoria, AZ) http://bit.ly/18jiLD #Job #Hiring #AZJobs                \n",
       "4 TN Jobs | SLP Travel Job in Knoxville Area, TN School System at Soliant Health (Kn.. http://u.mavrev.com/wuin #Job #Hiring #TNJobs\n",
       "5 NJ Jobs | New Jersey Travel or Perm job- OT at Sunbelt Staffing (NJ) http://bit.ly/yZzHR #Job #Hiring #NJJobs                     \n",
       "6 NJ Jobs | New Jersey Travel or Perm job- OT at Sunbelt Staffing (NJ) http://bit.ly/3Mu1Wz #Job #Hiring #NJJobs                    \n",
       "  sn            date      \n",
       "1 ChicagoJobAds 2009-08-01\n",
       "2 hnshah        2009-08-01\n",
       "3 ZuluJobsAZ    2009-08-01\n",
       "4 ZuluJobsTN    2009-08-01\n",
       "5 ZuluJobsNJ    2009-08-01\n",
       "6 ZuluJobsNJ    2009-08-01\n",
       "  tweets_processed                                                     \n",
       "1 hire architect ii                                                    \n",
       "2 steve discuss news via                                               \n",
       "3 az taco bell restaur gener manag taco bell peoria az hire azjob      \n",
       "4 tn slp travel knoxvil area tn school system soliant health hire tnjob\n",
       "5 nj new jersey travel perm ot sunbelt staf nj hire njjob              \n",
       "6 nj new jersey travel perm ot sunbelt staf nj hire njjob              "
      ]
     },
     "metadata": {},
     "output_type": "display_data"
    }
   ],
   "source": [
    "# load Doc_metadata\n",
    "doc_metadata = read.csv(\"/home/rep/scRNA-seq_clustering_to_Twitter/P1_preprocessing/doc_metadata_stemming_jobs.csv\") %>% select(-X)\n",
    "dim(doc_metadata)\n",
    "head(doc_metadata)"
   ]
  },
  {
   "cell_type": "code",
   "execution_count": 8,
   "id": "lonely-punch",
   "metadata": {},
   "outputs": [],
   "source": [
    "# run HCCA function\n",
    "type = vector()\n",
    "for(i in 1:nrow(doc_metadata)){\n",
    "  row = doc_metadata[i,]\n",
    "  type[i] = hc_classify(row)\n",
    "}\n",
    "\n",
    "doc_metadata = doc_metadata %>% mutate(category = type)"
   ]
  },
  {
   "cell_type": "code",
   "execution_count": 9,
   "id": "spanish-yukon",
   "metadata": {},
   "outputs": [
    {
     "data": {
      "text/html": [
       "<table class=\"dataframe\">\n",
       "<caption>A data.frame: 5 × 2</caption>\n",
       "<thead>\n",
       "\t<tr><th scope=col>category</th><th scope=col>n</th></tr>\n",
       "\t<tr><th scope=col>&lt;chr&gt;</th><th scope=col>&lt;int&gt;</th></tr>\n",
       "</thead>\n",
       "<tbody>\n",
       "\t<tr><td>Advertisement</td><td>12072</td></tr>\n",
       "\t<tr><td>Junk         </td><td> 2127</td></tr>\n",
       "\t<tr><td>News/Politics</td><td> 1024</td></tr>\n",
       "\t<tr><td>Other        </td><td> 7414</td></tr>\n",
       "\t<tr><td>Personal     </td><td> 5107</td></tr>\n",
       "</tbody>\n",
       "</table>\n"
      ],
      "text/latex": [
       "A data.frame: 5 × 2\n",
       "\\begin{tabular}{ll}\n",
       " category & n\\\\\n",
       " <chr> & <int>\\\\\n",
       "\\hline\n",
       "\t Advertisement & 12072\\\\\n",
       "\t Junk          &  2127\\\\\n",
       "\t News/Politics &  1024\\\\\n",
       "\t Other         &  7414\\\\\n",
       "\t Personal      &  5107\\\\\n",
       "\\end{tabular}\n"
      ],
      "text/markdown": [
       "\n",
       "A data.frame: 5 × 2\n",
       "\n",
       "| category &lt;chr&gt; | n &lt;int&gt; |\n",
       "|---|---|\n",
       "| Advertisement | 12072 |\n",
       "| Junk          |  2127 |\n",
       "| News/Politics |  1024 |\n",
       "| Other         |  7414 |\n",
       "| Personal      |  5107 |\n",
       "\n"
      ],
      "text/plain": [
       "  category      n    \n",
       "1 Advertisement 12072\n",
       "2 Junk           2127\n",
       "3 News/Politics  1024\n",
       "4 Other          7414\n",
       "5 Personal       5107"
      ]
     },
     "metadata": {},
     "output_type": "display_data"
    },
    {
     "data": {
      "text/html": [
       "<table class=\"dataframe\">\n",
       "<caption>A data.frame: 5 × 2</caption>\n",
       "<thead>\n",
       "\t<tr><th scope=col>label</th><th scope=col>n</th></tr>\n",
       "\t<tr><th scope=col>&lt;dbl&gt;</th><th scope=col>&lt;int&gt;</th></tr>\n",
       "</thead>\n",
       "<tbody>\n",
       "\t<tr><td>1</td><td> 2127</td></tr>\n",
       "\t<tr><td>2</td><td>12072</td></tr>\n",
       "\t<tr><td>3</td><td> 1024</td></tr>\n",
       "\t<tr><td>4</td><td> 7414</td></tr>\n",
       "\t<tr><td>5</td><td> 5107</td></tr>\n",
       "</tbody>\n",
       "</table>\n"
      ],
      "text/latex": [
       "A data.frame: 5 × 2\n",
       "\\begin{tabular}{ll}\n",
       " label & n\\\\\n",
       " <dbl> & <int>\\\\\n",
       "\\hline\n",
       "\t 1 &  2127\\\\\n",
       "\t 2 & 12072\\\\\n",
       "\t 3 &  1024\\\\\n",
       "\t 4 &  7414\\\\\n",
       "\t 5 &  5107\\\\\n",
       "\\end{tabular}\n"
      ],
      "text/markdown": [
       "\n",
       "A data.frame: 5 × 2\n",
       "\n",
       "| label &lt;dbl&gt; | n &lt;int&gt; |\n",
       "|---|---|\n",
       "| 1 |  2127 |\n",
       "| 2 | 12072 |\n",
       "| 3 |  1024 |\n",
       "| 4 |  7414 |\n",
       "| 5 |  5107 |\n",
       "\n"
      ],
      "text/plain": [
       "  label n    \n",
       "1 1      2127\n",
       "2 2     12072\n",
       "3 3      1024\n",
       "4 4      7414\n",
       "5 5      5107"
      ]
     },
     "metadata": {},
     "output_type": "display_data"
    }
   ],
   "source": [
    "# generate numerical labels \n",
    "doc_metadata = doc_metadata %>% dplyr::mutate(label = ifelse(category == \"Junk\", 1, \n",
    "                                                             ifelse(category == \"Advertisement\", 2,\n",
    "                                                                    ifelse(category == \"News/Politics\", 3, \n",
    "                                                                           ifelse(category == \"Other\", 4, 5)))))\n",
    "doc_metadata %>% dplyr::count(category)\n",
    "doc_metadata %>% dplyr::count(label)"
   ]
  },
  {
   "cell_type": "code",
   "execution_count": 10,
   "id": "alien-muslim",
   "metadata": {},
   "outputs": [
    {
     "name": "stdout",
     "output_type": "stream",
     "text": [
      "'data.frame':\t27744 obs. of  7 variables:\n",
      " $ time            : chr  \"2009-08-01 10:25:36\" \"2009-08-01 22:57:06\" \"2009-08-01 23:27:08\" \"2009-08-01 09:55:12\" ...\n",
      " $ text            : chr  \"Now Hiring:  Storage Architect II http://bit.ly/4iACm  Jobs\" \"\\\"The Steve Jobs method\\\" discussion on Hacker News: http://bit.ly/1b55N8 (via @ericries)\" \"AZ Jobs | Taco Bell Restaurant General Manager at Taco Bell (Peoria, AZ) http://bit.ly/18jiLD #Job #Hiring #AZJobs\" \"TN Jobs | SLP Travel Job in Knoxville Area, TN School System at Soliant Health (Kn.. http://u.mavrev.com/wuin #\"| __truncated__ ...\n",
      " $ sn              : chr  \"ChicagoJobAds\" \"hnshah\" \"ZuluJobsAZ\" \"ZuluJobsTN\" ...\n",
      " $ date            : chr  \"2009-08-01\" \"2009-08-01\" \"2009-08-01\" \"2009-08-01\" ...\n",
      " $ tweets_processed: chr  \"hire architect ii\" \"steve discuss news via\" \"az taco bell restaur gener manag taco bell peoria az hire azjob\" \"tn slp travel knoxvil area tn school system soliant health hire tnjob\" ...\n",
      " $ category        : chr  \"Advertisement\" \"Junk\" \"Advertisement\" \"Advertisement\" ...\n",
      " $ label           : num  2 1 2 2 2 2 2 2 2 2 ...\n"
     ]
    }
   ],
   "source": [
    "str(doc_metadata)"
   ]
  },
  {
   "cell_type": "code",
   "execution_count": 12,
   "id": "bridal-being",
   "metadata": {},
   "outputs": [],
   "source": [
    "# write.csv(doc_metadata, \"/home/rep/scRNA-seq_clustering_to_Twitter/P3_Proposed_workflow/PW_files/doc_metadata_stemming_jobs_hclabeled.csv\")"
   ]
  }
 ],
 "metadata": {
  "kernelspec": {
   "display_name": "R",
   "language": "R",
   "name": "ir"
  },
  "language_info": {
   "codemirror_mode": "r",
   "file_extension": ".r",
   "mimetype": "text/x-r-source",
   "name": "R",
   "pygments_lexer": "r",
   "version": "4.0.3"
  }
 },
 "nbformat": 4,
 "nbformat_minor": 5
}
